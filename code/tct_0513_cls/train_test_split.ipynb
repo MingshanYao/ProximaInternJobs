{
 "cells": [
  {
   "cell_type": "code",
   "execution_count": 2,
   "metadata": {},
   "outputs": [],
   "source": [
    "import pandas as pd\n",
    "csv_path ='/data/AlgProj/tct_yaoms/data/tct_0513/include_background_0723.csv'\n",
    "\n",
    "def train_test_split(df, test_size, shuffle=True):\n",
    "    if shuffle:\n",
    "        df = df.sample(frac=1).reset_index(drop=True)\n",
    "    #split\n",
    "    length = len(df)\n",
    "    threspoint = int((1 - test_size)*length)\n",
    "    train_df = df.loc[:threspoint-1,:]\n",
    "    test_df = df.loc[threspoint:,:]\n",
    "    \n",
    "    d = {}\n",
    "    d['train'] = train_df\n",
    "    d['test'] = test_df.reset_index(drop=True)\n",
    "    return d"
   ]
  },
  {
   "cell_type": "code",
   "execution_count": 3,
   "metadata": {},
   "outputs": [],
   "source": [
    "csv = pd.read_csv(csv_path)\n",
    "d = train_test_split(csv, 0.2)\n",
    "\n",
    "d['train'].to_csv('/data/AlgProj/tct_yaoms/data/tct_0513/train_df.csv', index=False)\n",
    "d['test'].to_csv('/data/AlgProj/tct_yaoms/data/tct_0513/test_df.csv', index=False)\n"
   ]
  },
  {
   "cell_type": "code",
   "execution_count": null,
   "metadata": {},
   "outputs": [],
   "source": []
  }
 ],
 "metadata": {
  "kernelspec": {
   "display_name": "Python 2",
   "language": "python",
   "name": "python2"
  },
  "language_info": {
   "codemirror_mode": {
    "name": "ipython",
    "version": 3
   },
   "file_extension": ".py",
   "mimetype": "text/x-python",
   "name": "python",
   "nbconvert_exporter": "python",
   "pygments_lexer": "ipython3",
   "version": "3.5.6"
  }
 },
 "nbformat": 4,
 "nbformat_minor": 2
}
