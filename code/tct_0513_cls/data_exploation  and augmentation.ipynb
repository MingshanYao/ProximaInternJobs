{
 "cells": [
  {
   "cell_type": "code",
   "execution_count": 16,
   "metadata": {},
   "outputs": [],
   "source": [
    "import sys \n",
    "import os\n",
    "import pandas as pd\n",
    "from PIL import Image\n",
    "import numpy as np"
   ]
  },
  {
   "cell_type": "code",
   "execution_count": 17,
   "metadata": {},
   "outputs": [
    {
     "data": {
      "text/html": [
       "<div>\n",
       "<style scoped>\n",
       "    .dataframe tbody tr th:only-of-type {\n",
       "        vertical-align: middle;\n",
       "    }\n",
       "\n",
       "    .dataframe tbody tr th {\n",
       "        vertical-align: top;\n",
       "    }\n",
       "\n",
       "    .dataframe thead th {\n",
       "        text-align: right;\n",
       "    }\n",
       "</style>\n",
       "<table border=\"1\" class=\"dataframe\">\n",
       "  <thead>\n",
       "    <tr style=\"text-align: right;\">\n",
       "      <th></th>\n",
       "      <th>序列编号</th>\n",
       "      <th>影像结果编号</th>\n",
       "      <th>x_min</th>\n",
       "      <th>y_min</th>\n",
       "      <th>x_max</th>\n",
       "      <th>y_max</th>\n",
       "      <th>z</th>\n",
       "      <th>恶性细胞分类</th>\n",
       "    </tr>\n",
       "  </thead>\n",
       "  <tbody>\n",
       "    <tr>\n",
       "      <th>2300</th>\n",
       "      <td>06d40c98aa124d278eb9422b2bc0d3d8</td>\n",
       "      <td>332260</td>\n",
       "      <td>414</td>\n",
       "      <td>46</td>\n",
       "      <td>601</td>\n",
       "      <td>327</td>\n",
       "      <td>420</td>\n",
       "      <td>1</td>\n",
       "    </tr>\n",
       "    <tr>\n",
       "      <th>2301</th>\n",
       "      <td>06d40c98aa124d278eb9422b2bc0d3d8</td>\n",
       "      <td>332257</td>\n",
       "      <td>137</td>\n",
       "      <td>324</td>\n",
       "      <td>378</td>\n",
       "      <td>574</td>\n",
       "      <td>432</td>\n",
       "      <td>1</td>\n",
       "    </tr>\n",
       "    <tr>\n",
       "      <th>2302</th>\n",
       "      <td>06d40c98aa124d278eb9422b2bc0d3d8</td>\n",
       "      <td>332256</td>\n",
       "      <td>5</td>\n",
       "      <td>272</td>\n",
       "      <td>274</td>\n",
       "      <td>553</td>\n",
       "      <td>376</td>\n",
       "      <td>1</td>\n",
       "    </tr>\n",
       "    <tr>\n",
       "      <th>2303</th>\n",
       "      <td>06d40c98aa124d278eb9422b2bc0d3d8</td>\n",
       "      <td>332259</td>\n",
       "      <td>43</td>\n",
       "      <td>475</td>\n",
       "      <td>198</td>\n",
       "      <td>696</td>\n",
       "      <td>414</td>\n",
       "      <td>1</td>\n",
       "    </tr>\n",
       "    <tr>\n",
       "      <th>2304</th>\n",
       "      <td>06d40c98aa124d278eb9422b2bc0d3d8</td>\n",
       "      <td>332258</td>\n",
       "      <td>695</td>\n",
       "      <td>197</td>\n",
       "      <td>923</td>\n",
       "      <td>371</td>\n",
       "      <td>465</td>\n",
       "      <td>1</td>\n",
       "    </tr>\n",
       "  </tbody>\n",
       "</table>\n",
       "</div>"
      ],
      "text/plain": [
       "                                  序列编号  影像结果编号  x_min  y_min  x_max  y_max  \\\n",
       "2300  06d40c98aa124d278eb9422b2bc0d3d8  332260    414     46    601    327   \n",
       "2301  06d40c98aa124d278eb9422b2bc0d3d8  332257    137    324    378    574   \n",
       "2302  06d40c98aa124d278eb9422b2bc0d3d8  332256      5    272    274    553   \n",
       "2303  06d40c98aa124d278eb9422b2bc0d3d8  332259     43    475    198    696   \n",
       "2304  06d40c98aa124d278eb9422b2bc0d3d8  332258    695    197    923    371   \n",
       "\n",
       "        z  恶性细胞分类  \n",
       "2300  420       1  \n",
       "2301  432       1  \n",
       "2302  376       1  \n",
       "2303  414       1  \n",
       "2304  465       1  "
      ]
     },
     "execution_count": 17,
     "metadata": {},
     "output_type": "execute_result"
    }
   ],
   "source": [
    "csv_path = '/data/AlgProj/tct_yaoms/data/tct_0513/detail_infomation.csv'\n",
    "csv = pd.read_csv(csv_path)\n",
    "csv.tail()"
   ]
  },
  {
   "cell_type": "code",
   "execution_count": 18,
   "metadata": {},
   "outputs": [
    {
     "data": {
      "text/plain": [
       "1    1183\n",
       "3     689\n",
       "4     183\n",
       "2     142\n",
       "5      89\n",
       "6      16\n",
       "7       3\n",
       "Name: 恶性细胞分类, dtype: int64"
      ]
     },
     "execution_count": 18,
     "metadata": {},
     "output_type": "execute_result"
    }
   ],
   "source": [
    "csv['恶性细胞分类'].value_counts()"
   ]
  },
  {
   "cell_type": "markdown",
   "metadata": {},
   "source": [
    "### 数据增广"
   ]
  },
  {
   "cell_type": "code",
   "execution_count": 39,
   "metadata": {},
   "outputs": [],
   "source": [
    "aug_df = pd.DataFrame(columns=['img_path', 'label'])"
   ]
  },
  {
   "cell_type": "code",
   "execution_count": 37,
   "metadata": {},
   "outputs": [],
   "source": [
    "def randomRotation(img_name, label,times,mode=Image.BICUBIC):\n",
    "    img_id = img_name.split('_')[0]\n",
    "    save_dir = '/data/AlgProj/tct_yaoms/data/tct_0513/tct_0513_img_augmentation_0723/'\n",
    "    data_dir = '/data/AlgProj/tct_yaoms/data/tct_0513/tct_0513_crop_imgs/'\n",
    "    img_path = data_dir + img_name\n",
    "    try:\n",
    "        ori_img = Image.open(img_path)\n",
    "        global aug_df\n",
    "#         if times == 1:\n",
    "#             save_name = img_id + '_' + '.jpg'\n",
    "#             save_path = save_dir + save_name\n",
    "#             ori_img.save(save_path, quality=95)\n",
    "#             aug_df = aug_df.append([{'img_path':save_path, 'label':label}])\n",
    "#         else:\n",
    "        for i in range(times):\n",
    "            img = ori_img\n",
    "            random_angle = np.random.randint(-50, 50)\n",
    "            img = img.rotate(random_angle, mode)\n",
    "            save_name = img_id + '_'+ str(i) + '.jpg'\n",
    "            save_path = save_dir + save_name\n",
    "            if not os.path.exists(save_path):\n",
    "                img.save(save_path, quality=95)\n",
    "\n",
    "            aug_df = aug_df.append([{'img_path':save_path, 'label':label}])\n",
    "    except(OSError):\n",
    "        print(img_id)\n",
    "        print('-------------')"
   ]
  },
  {
   "cell_type": "code",
   "execution_count": 36,
   "metadata": {},
   "outputs": [
    {
     "data": {
      "text/html": [
       "<div>\n",
       "<style scoped>\n",
       "    .dataframe tbody tr th:only-of-type {\n",
       "        vertical-align: middle;\n",
       "    }\n",
       "\n",
       "    .dataframe tbody tr th {\n",
       "        vertical-align: top;\n",
       "    }\n",
       "\n",
       "    .dataframe thead th {\n",
       "        text-align: right;\n",
       "    }\n",
       "</style>\n",
       "<table border=\"1\" class=\"dataframe\">\n",
       "  <thead>\n",
       "    <tr style=\"text-align: right;\">\n",
       "      <th></th>\n",
       "      <th>img_path</th>\n",
       "      <th>label</th>\n",
       "    </tr>\n",
       "  </thead>\n",
       "  <tbody>\n",
       "    <tr>\n",
       "      <th>2300</th>\n",
       "      <td>/data/AlgProj/tct_yaoms/data/tct_0513/tct_0513...</td>\n",
       "      <td>1</td>\n",
       "    </tr>\n",
       "    <tr>\n",
       "      <th>2301</th>\n",
       "      <td>/data/AlgProj/tct_yaoms/data/tct_0513/tct_0513...</td>\n",
       "      <td>1</td>\n",
       "    </tr>\n",
       "    <tr>\n",
       "      <th>2302</th>\n",
       "      <td>/data/AlgProj/tct_yaoms/data/tct_0513/tct_0513...</td>\n",
       "      <td>1</td>\n",
       "    </tr>\n",
       "    <tr>\n",
       "      <th>2303</th>\n",
       "      <td>/data/AlgProj/tct_yaoms/data/tct_0513/tct_0513...</td>\n",
       "      <td>1</td>\n",
       "    </tr>\n",
       "    <tr>\n",
       "      <th>2304</th>\n",
       "      <td>/data/AlgProj/tct_yaoms/data/tct_0513/tct_0513...</td>\n",
       "      <td>1</td>\n",
       "    </tr>\n",
       "  </tbody>\n",
       "</table>\n",
       "</div>"
      ],
      "text/plain": [
       "                                               img_path  label\n",
       "2300  /data/AlgProj/tct_yaoms/data/tct_0513/tct_0513...      1\n",
       "2301  /data/AlgProj/tct_yaoms/data/tct_0513/tct_0513...      1\n",
       "2302  /data/AlgProj/tct_yaoms/data/tct_0513/tct_0513...      1\n",
       "2303  /data/AlgProj/tct_yaoms/data/tct_0513/tct_0513...      1\n",
       "2304  /data/AlgProj/tct_yaoms/data/tct_0513/tct_0513...      1"
      ]
     },
     "execution_count": 36,
     "metadata": {},
     "output_type": "execute_result"
    }
   ],
   "source": [
    "dataset = pd.read_csv('/data/AlgProj/tct_yaoms/data/tct_0513/dataset.csv')\n",
    "dataset.tail()"
   ]
  },
  {
   "cell_type": "code",
   "execution_count": 40,
   "metadata": {},
   "outputs": [
    {
     "name": "stdout",
     "output_type": "stream",
     "text": [
      "332535\n",
      "-------------\n",
      "332539\n",
      "-------------\n"
     ]
    }
   ],
   "source": [
    "\n",
    "for idx in dataset.index:\n",
    "    img_name = dataset.loc[idx, 'img_path'].split('/')[-1]\n",
    "    label = dataset.loc[idx,'label']\n",
    "    if label == 1:\n",
    "        times = 1\n",
    "    elif label == 2:\n",
    "        times = 3\n",
    "    elif label == 3:\n",
    "        times = 1\n",
    "    elif label == 4:\n",
    "        times = 2\n",
    "    elif label == 5:\n",
    "        times = 5\n",
    "    elif label == 6:\n",
    "        times = 30\n",
    "    elif label ==7:\n",
    "        times = 100\n",
    "    randomRotation(img_name, label,times,mode=Image.BICUBIC)"
   ]
  },
  {
   "cell_type": "code",
   "execution_count": 41,
   "metadata": {},
   "outputs": [],
   "source": [
    "aug_df = aug_df.reset_index(drop= True)"
   ]
  },
  {
   "cell_type": "code",
   "execution_count": 42,
   "metadata": {},
   "outputs": [
    {
     "data": {
      "text/plain": [
       "3887"
      ]
     },
     "execution_count": 42,
     "metadata": {},
     "output_type": "execute_result"
    }
   ],
   "source": [
    "len(aug_df)"
   ]
  },
  {
   "cell_type": "code",
   "execution_count": 43,
   "metadata": {},
   "outputs": [],
   "source": [
    "aug_df.to_csv('/data/AlgProj/tct_yaoms/data/tct_0513/augmentation_label_0723.csv', index=False)"
   ]
  },
  {
   "cell_type": "code",
   "execution_count": 65,
   "metadata": {},
   "outputs": [
    {
     "data": {
      "image/png": "[encoded data removed]",
      "text/plain": [
       "<PIL.JpegImagePlugin.JpegImageFile image mode=RGB size=194x158 at 0x7FEBD12198D0>"
      ]
     },
     "execution_count": 65,
     "metadata": {},
     "output_type": "execute_result"
    }
   ],
   "source": [
    "save_dir = '/data/AlgProj/tct_yaoms/data/tct_0513/tct_0513_img_augmentation_0723/'\n",
    "files = os.listdir(save_dir)\n",
    "\n",
    "img = Image.open(save_dir+files[19])\n",
    "img"
   ]
  },
  {
   "cell_type": "code",
   "execution_count": 66,
   "metadata": {},
   "outputs": [
    {
     "data": {
      "text/plain": [
       "'/data/AlgProj/tct_yaoms/data/tct_0513/tct_0513_img_augmentation_0723/180938_0.jpg'"
      ]
     },
     "execution_count": 66,
     "metadata": {},
     "output_type": "execute_result"
    }
   ],
   "source": [
    "aug_df.loc[1, 'img_path']"
   ]
  },
  {
   "cell_type": "code",
   "execution_count": 67,
   "metadata": {},
   "outputs": [
    {
     "data": {
      "text/html": [
       "<div>\n",
       "<style scoped>\n",
       "    .dataframe tbody tr th:only-of-type {\n",
       "        vertical-align: middle;\n",
       "    }\n",
       "\n",
       "    .dataframe tbody tr th {\n",
       "        vertical-align: top;\n",
       "    }\n",
       "\n",
       "    .dataframe thead th {\n",
       "        text-align: right;\n",
       "    }\n",
       "</style>\n",
       "<table border=\"1\" class=\"dataframe\">\n",
       "  <thead>\n",
       "    <tr style=\"text-align: right;\">\n",
       "      <th></th>\n",
       "      <th>img_path</th>\n",
       "      <th>label</th>\n",
       "    </tr>\n",
       "  </thead>\n",
       "  <tbody>\n",
       "    <tr>\n",
       "      <th>0</th>\n",
       "      <td>/data/AlgProj/tct_yaoms/data/tct_0513/tct_0513...</td>\n",
       "      <td>1</td>\n",
       "    </tr>\n",
       "    <tr>\n",
       "      <th>1</th>\n",
       "      <td>/data/AlgProj/tct_yaoms/data/tct_0513/tct_0513...</td>\n",
       "      <td>1</td>\n",
       "    </tr>\n",
       "    <tr>\n",
       "      <th>2</th>\n",
       "      <td>/data/AlgProj/tct_yaoms/data/tct_0513/tct_0513...</td>\n",
       "      <td>1</td>\n",
       "    </tr>\n",
       "    <tr>\n",
       "      <th>3</th>\n",
       "      <td>/data/AlgProj/tct_yaoms/data/tct_0513/tct_0513...</td>\n",
       "      <td>1</td>\n",
       "    </tr>\n",
       "    <tr>\n",
       "      <th>4</th>\n",
       "      <td>/data/AlgProj/tct_yaoms/data/tct_0513/tct_0513...</td>\n",
       "      <td>1</td>\n",
       "    </tr>\n",
       "  </tbody>\n",
       "</table>\n",
       "</div>"
      ],
      "text/plain": [
       "                                            img_path label\n",
       "0  /data/AlgProj/tct_yaoms/data/tct_0513/tct_0513...     1\n",
       "1  /data/AlgProj/tct_yaoms/data/tct_0513/tct_0513...     1\n",
       "2  /data/AlgProj/tct_yaoms/data/tct_0513/tct_0513...     1\n",
       "3  /data/AlgProj/tct_yaoms/data/tct_0513/tct_0513...     1\n",
       "4  /data/AlgProj/tct_yaoms/data/tct_0513/tct_0513...     1"
      ]
     },
     "execution_count": 67,
     "metadata": {},
     "output_type": "execute_result"
    }
   ],
   "source": [
    "aug_df.head()"
   ]
  },
  {
   "cell_type": "code",
   "execution_count": 68,
   "metadata": {},
   "outputs": [],
   "source": [
    "bg_df = pd.DataFrame(columns=[ 'label', 'img_path'])\n",
    "bg_root = '/data/AlgProj/tct_yaoms/data/neg/'\n",
    "sub_dirs = os.listdir(bg_root)\n",
    "for sub_dir in sub_dirs:\n",
    "    cur_dir = bg_root + sub_dir + '/'\n",
    "    img_names = os.listdir(cur_dir)\n",
    "    for img_name in img_names:\n",
    "        img_path = cur_dir + img_name\n",
    "        bg_df = bg_df.append([{ 'label':0, 'img_path':img_path}], ignore_index=True)\n"
   ]
  },
  {
   "cell_type": "code",
   "execution_count": 69,
   "metadata": {},
   "outputs": [],
   "source": [
    "sample_df = bg_df.sample(n=1200, random_state=42, axis=0)"
   ]
  },
  {
   "cell_type": "code",
   "execution_count": 70,
   "metadata": {},
   "outputs": [
    {
     "name": "stderr",
     "output_type": "stream",
     "text": [
      "/home/yaoms/anaconda3/envs/PytorchEnv/lib/python3.5/site-packages/pandas/core/frame.py:6211: FutureWarning: Sorting because non-concatenation axis is not aligned. A future version\n",
      "of pandas will change to not sort by default.\n",
      "\n",
      "To accept the future behavior, pass 'sort=False'.\n",
      "\n",
      "To retain the current behavior and silence the warning, pass 'sort=True'.\n",
      "\n",
      "  sort=sort)\n"
     ]
    },
    {
     "data": {
      "text/plain": [
       "5087"
      ]
     },
     "execution_count": 70,
     "metadata": {},
     "output_type": "execute_result"
    }
   ],
   "source": [
    "all_df = aug_df.append(sample_df, ignore_index=True)\n",
    "len(all_df)"
   ]
  },
  {
   "cell_type": "code",
   "execution_count": 71,
   "metadata": {},
   "outputs": [],
   "source": [
    "all_df.to_csv('/data/AlgProj/tct_yaoms/data/tct_0513/include_background_0723.csv', index=False)"
   ]
  },
  {
   "cell_type": "code",
   "execution_count": 72,
   "metadata": {},
   "outputs": [
    {
     "data": {
      "text/plain": [
       "0    1200\n",
       "1    1182\n",
       "3     688\n",
       "6     480\n",
       "5     445\n",
       "2     426\n",
       "4     366\n",
       "7     300\n",
       "Name: label, dtype: int64"
      ]
     },
     "execution_count": 72,
     "metadata": {},
     "output_type": "execute_result"
    }
   ],
   "source": [
    "all_df['label'].value_counts()"
   ]
  },
  {
   "cell_type": "code",
   "execution_count": 31,
   "metadata": {},
   "outputs": [
    {
     "data": {
      "text/plain": [
       "5539"
      ]
     },
     "execution_count": 31,
     "metadata": {},
     "output_type": "execute_result"
    }
   ],
   "source": [
    "len(os.listdir(bg_root))"
   ]
  },
  {
   "cell_type": "code",
   "execution_count": 33,
   "metadata": {},
   "outputs": [
    {
     "name": "stdout",
     "output_type": "stream",
     "text": [
      "7\n"
     ]
    }
   ],
   "source": [
    "j = np.random.randint(-30, 30)\n",
    "print(j)"
   ]
  },
  {
   "cell_type": "code",
   "execution_count": 34,
   "metadata": {},
   "outputs": [
    {
     "data": {
      "image/png": "[encoded data removed]",
      "text/plain": [
       "<PIL.Image.Image image mode=RGB size=84x142 at 0x7FEBD138B940>"
      ]
     },
     "execution_count": 34,
     "metadata": {},
     "output_type": "execute_result"
    }
   ],
   "source": [
    "img.rotate(j)"
   ]
  },
  {
   "cell_type": "code",
   "execution_count": null,
   "metadata": {},
   "outputs": [],
   "source": []
  }
 ],
 "metadata": {
  "kernelspec": {
   "display_name": "Python 2",
   "language": "python",
   "name": "python2"
  },
  "language_info": {
   "codemirror_mode": {
    "name": "ipython",
    "version": 3
   },
   "file_extension": ".py",
   "mimetype": "text/x-python",
   "name": "python",
   "nbconvert_exporter": "python",
   "pygments_lexer": "ipython3",
   "version": "3.5.6"
  }
 },
 "nbformat": 4,
 "nbformat_minor": 2
}
