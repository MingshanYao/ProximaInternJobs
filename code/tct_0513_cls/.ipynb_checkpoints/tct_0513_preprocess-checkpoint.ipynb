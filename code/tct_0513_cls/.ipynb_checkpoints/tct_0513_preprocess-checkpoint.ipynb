{
 "cells": [
  {
   "cell_type": "code",
   "execution_count": 3,
   "metadata": {},
   "outputs": [],
   "source": [
    "import os\n",
    "import pandas as pd"
   ]
  },
  {
   "cell_type": "code",
   "execution_count": 18,
   "metadata": {},
   "outputs": [],
   "source": [
    "root = '/data/AlgProj/niezl/TCT/TCT_Data/Misc/TCT0513_部分数据——审批数据/'\n",
    "data_dir = '/data/AlgProj/niezl/TCT/1_DataBase/20190711/'"
   ]
  },
  {
   "cell_type": "code",
   "execution_count": 9,
   "metadata": {},
   "outputs": [],
   "source": [
    "dirs = os.listdir(root)"
   ]
  },
  {
   "cell_type": "code",
   "execution_count": 10,
   "metadata": {},
   "outputs": [
    {
     "data": {
      "text/plain": [
       "['0513_check_part1.txt', '序列标注结果.csv', '0513_check_part1.csv']"
      ]
     },
     "execution_count": 10,
     "metadata": {},
     "output_type": "execute_result"
    }
   ],
   "source": [
    "os.listdir(root+dirs[0])"
   ]
  },
  {
   "cell_type": "code",
   "execution_count": 11,
   "metadata": {},
   "outputs": [
    {
     "data": {
      "text/plain": [
       "['0513_check_part2.txt', '0513_check_part2.csv', '序列标注结果.csv']"
      ]
     },
     "execution_count": 11,
     "metadata": {},
     "output_type": "execute_result"
    }
   ],
   "source": [
    "os.listdir(root+dirs[1])"
   ]
  },
  {
   "cell_type": "code",
   "execution_count": 37,
   "metadata": {},
   "outputs": [],
   "source": [
    "csv1 = pd.read_csv(root+dirs[0]+'/'+'0513_check_part1.csv')\n",
    "csv2 = pd.read_csv(root+dirs[1]+'/'+'0513_check_part2.csv')"
   ]
  },
  {
   "cell_type": "code",
   "execution_count": 38,
   "metadata": {},
   "outputs": [
    {
     "data": {
      "text/plain": [
       "2379"
      ]
     },
     "execution_count": 38,
     "metadata": {},
     "output_type": "execute_result"
    }
   ],
   "source": [
    "len(csv1) + len(csv2)"
   ]
  },
  {
   "cell_type": "code",
   "execution_count": 15,
   "metadata": {},
   "outputs": [
    {
     "data": {
      "text/plain": [
       "1     583\n",
       "3     297\n",
       "2      54\n",
       "4      52\n",
       "5      25\n",
       "10      5\n",
       "6       5\n",
       "7       2\n",
       "Name: 恶性细胞分类(更新), dtype: int64"
      ]
     },
     "execution_count": 15,
     "metadata": {},
     "output_type": "execute_result"
    }
   ],
   "source": [
    "csv1['恶性细胞分类(更新)'].value_counts()"
   ]
  },
  {
   "cell_type": "code",
   "execution_count": 17,
   "metadata": {},
   "outputs": [
    {
     "data": {
      "text/plain": [
       "1     600\n",
       "3     392\n",
       "4     131\n",
       "2      88\n",
       "10     69\n",
       "5      64\n",
       "6      11\n",
       "7       1\n",
       "Name: 恶性细胞分类, dtype: int64"
      ]
     },
     "execution_count": 17,
     "metadata": {},
     "output_type": "execute_result"
    }
   ],
   "source": [
    "csv2['恶性细胞分类'].value_counts()"
   ]
  },
  {
   "cell_type": "code",
   "execution_count": 21,
   "metadata": {},
   "outputs": [
    {
     "data": {
      "text/html": [
       "<div>\n",
       "<style scoped>\n",
       "    .dataframe tbody tr th:only-of-type {\n",
       "        vertical-align: middle;\n",
       "    }\n",
       "\n",
       "    .dataframe tbody tr th {\n",
       "        vertical-align: top;\n",
       "    }\n",
       "\n",
       "    .dataframe thead th {\n",
       "        text-align: right;\n",
       "    }\n",
       "</style>\n",
       "<table border=\"1\" class=\"dataframe\">\n",
       "  <thead>\n",
       "    <tr style=\"text-align: right;\">\n",
       "      <th></th>\n",
       "      <th>影像结果编号</th>\n",
       "      <th>检查号</th>\n",
       "      <th>序列编号</th>\n",
       "      <th>开始时间</th>\n",
       "      <th>提交时间</th>\n",
       "      <th>病灶</th>\n",
       "      <th>影像工具</th>\n",
       "      <th>影像结果</th>\n",
       "      <th>恶性细胞分类(更新)</th>\n",
       "    </tr>\n",
       "  </thead>\n",
       "  <tbody>\n",
       "    <tr>\n",
       "      <th>0</th>\n",
       "      <td>180931</td>\n",
       "      <td>7eadfd40d4c74dafa4e56ab2edf0f07a</td>\n",
       "      <td>ae058119904845bfb35a3103c2594f5c</td>\n",
       "      <td>2019-05-22 16:48:57</td>\n",
       "      <td>2019-05-19 20:18:24</td>\n",
       "      <td>ANNO9</td>\n",
       "      <td>RECTANGLE</td>\n",
       "      <td>{\"point1\":{\"x\":1603.1226765799254,\"y\":705.1895...</td>\n",
       "      <td>1</td>\n",
       "    </tr>\n",
       "    <tr>\n",
       "      <th>1</th>\n",
       "      <td>180938</td>\n",
       "      <td>7eadfd40d4c74dafa4e56ab2edf0f07a</td>\n",
       "      <td>ae058119904845bfb35a3103c2594f5c</td>\n",
       "      <td>2019-05-22 16:48:57</td>\n",
       "      <td>2019-05-19 20:18:24</td>\n",
       "      <td>ANNO9</td>\n",
       "      <td>RECTANGLE</td>\n",
       "      <td>{\"point1\":{\"x\":1320.5947955390332,\"y\":124.3122...</td>\n",
       "      <td>1</td>\n",
       "    </tr>\n",
       "    <tr>\n",
       "      <th>2</th>\n",
       "      <td>180934</td>\n",
       "      <td>7eadfd40d4c74dafa4e56ab2edf0f07a</td>\n",
       "      <td>ae058119904845bfb35a3103c2594f5c</td>\n",
       "      <td>2019-05-22 16:48:57</td>\n",
       "      <td>2019-05-19 20:18:24</td>\n",
       "      <td>ANNO9</td>\n",
       "      <td>RECTANGLE</td>\n",
       "      <td>{\"point1\":{\"x\":812.0446096654273,\"y\":15.821561...</td>\n",
       "      <td>1</td>\n",
       "    </tr>\n",
       "    <tr>\n",
       "      <th>3</th>\n",
       "      <td>180944</td>\n",
       "      <td>7eadfd40d4c74dafa4e56ab2edf0f07a</td>\n",
       "      <td>ae058119904845bfb35a3103c2594f5c</td>\n",
       "      <td>2019-05-22 16:48:57</td>\n",
       "      <td>2019-05-19 20:18:24</td>\n",
       "      <td>ANNO9</td>\n",
       "      <td>RECTANGLE</td>\n",
       "      <td>{\"point1\":{\"x\":547.5985130111522,\"y\":1073.6059...</td>\n",
       "      <td>1</td>\n",
       "    </tr>\n",
       "    <tr>\n",
       "      <th>4</th>\n",
       "      <td>180953</td>\n",
       "      <td>7eadfd40d4c74dafa4e56ab2edf0f07a</td>\n",
       "      <td>ae058119904845bfb35a3103c2594f5c</td>\n",
       "      <td>2019-05-22 16:48:57</td>\n",
       "      <td>2019-05-19 20:18:24</td>\n",
       "      <td>ANNO9</td>\n",
       "      <td>RECTANGLE</td>\n",
       "      <td>{\"point1\":{\"x\":443.62825278810396,\"y\":1014.840...</td>\n",
       "      <td>1</td>\n",
       "    </tr>\n",
       "  </tbody>\n",
       "</table>\n",
       "</div>"
      ],
      "text/plain": [
       "   影像结果编号                               检查号                              序列编号  \\\n",
       "0  180931  7eadfd40d4c74dafa4e56ab2edf0f07a  ae058119904845bfb35a3103c2594f5c   \n",
       "1  180938  7eadfd40d4c74dafa4e56ab2edf0f07a  ae058119904845bfb35a3103c2594f5c   \n",
       "2  180934  7eadfd40d4c74dafa4e56ab2edf0f07a  ae058119904845bfb35a3103c2594f5c   \n",
       "3  180944  7eadfd40d4c74dafa4e56ab2edf0f07a  ae058119904845bfb35a3103c2594f5c   \n",
       "4  180953  7eadfd40d4c74dafa4e56ab2edf0f07a  ae058119904845bfb35a3103c2594f5c   \n",
       "\n",
       "                  开始时间                 提交时间     病灶       影像工具  \\\n",
       "0  2019-05-22 16:48:57  2019-05-19 20:18:24  ANNO9  RECTANGLE   \n",
       "1  2019-05-22 16:48:57  2019-05-19 20:18:24  ANNO9  RECTANGLE   \n",
       "2  2019-05-22 16:48:57  2019-05-19 20:18:24  ANNO9  RECTANGLE   \n",
       "3  2019-05-22 16:48:57  2019-05-19 20:18:24  ANNO9  RECTANGLE   \n",
       "4  2019-05-22 16:48:57  2019-05-19 20:18:24  ANNO9  RECTANGLE   \n",
       "\n",
       "                                                影像结果  恶性细胞分类(更新)  \n",
       "0  {\"point1\":{\"x\":1603.1226765799254,\"y\":705.1895...           1  \n",
       "1  {\"point1\":{\"x\":1320.5947955390332,\"y\":124.3122...           1  \n",
       "2  {\"point1\":{\"x\":812.0446096654273,\"y\":15.821561...           1  \n",
       "3  {\"point1\":{\"x\":547.5985130111522,\"y\":1073.6059...           1  \n",
       "4  {\"point1\":{\"x\":443.62825278810396,\"y\":1014.840...           1  "
      ]
     },
     "execution_count": 21,
     "metadata": {},
     "output_type": "execute_result"
    }
   ],
   "source": [
    "csv1.head()"
   ]
  },
  {
   "cell_type": "code",
   "execution_count": 30,
   "metadata": {},
   "outputs": [
    {
     "data": {
      "text/plain": [
       "'{\"point1\":{\"x\":1783.9405204460963,\"y\":617.0408921933084,\"highlight\":true,\"active\":false,\"z\":74},\"point2\":{\"x\":1921.8141263940518,\"y\":752.6542750929367,\"highlight\":true,\"active\":true,\"z\":74}}'"
      ]
     },
     "execution_count": 30,
     "metadata": {},
     "output_type": "execute_result"
    }
   ],
   "source": [
    "csv1.loc[6, '影像结果']"
   ]
  },
  {
   "cell_type": "code",
   "execution_count": 31,
   "metadata": {},
   "outputs": [
    {
     "data": {
      "text/html": [
       "<div>\n",
       "<style scoped>\n",
       "    .dataframe tbody tr th:only-of-type {\n",
       "        vertical-align: middle;\n",
       "    }\n",
       "\n",
       "    .dataframe tbody tr th {\n",
       "        vertical-align: top;\n",
       "    }\n",
       "\n",
       "    .dataframe thead th {\n",
       "        text-align: right;\n",
       "    }\n",
       "</style>\n",
       "<table border=\"1\" class=\"dataframe\">\n",
       "  <thead>\n",
       "    <tr style=\"text-align: right;\">\n",
       "      <th></th>\n",
       "      <th>用户手机号</th>\n",
       "      <th>用户姓名</th>\n",
       "      <th>影像结果编号</th>\n",
       "      <th>检查编号</th>\n",
       "      <th>序列编号</th>\n",
       "      <th>开始时间</th>\n",
       "      <th>提交时间</th>\n",
       "      <th>自定义内容</th>\n",
       "      <th>阴阳性</th>\n",
       "      <th>病灶</th>\n",
       "      <th>影像工具</th>\n",
       "      <th>影像结果类型</th>\n",
       "      <th>影像结果</th>\n",
       "      <th>恶性细胞分类</th>\n",
       "    </tr>\n",
       "  </thead>\n",
       "  <tbody>\n",
       "    <tr>\n",
       "      <th>0</th>\n",
       "      <td>13917674112</td>\n",
       "      <td>滕昊华</td>\n",
       "      <td>319844</td>\n",
       "      <td>34180c2a4498438d975dbb4e6d7894dc</td>\n",
       "      <td>7b8747978dc14587bab01790e7799dbe</td>\n",
       "      <td>2019-07-04 20:42:51</td>\n",
       "      <td>2019-07-04 20:49:45</td>\n",
       "      <td>NaN</td>\n",
       "      <td>NaN</td>\n",
       "      <td>ANNO9</td>\n",
       "      <td>RECTANGLE</td>\n",
       "      <td>2</td>\n",
       "      <td>{\"point1\":{\"x\":326.0396396396396,\"y\":348.36756...</td>\n",
       "      <td>1</td>\n",
       "    </tr>\n",
       "    <tr>\n",
       "      <th>1</th>\n",
       "      <td>13917674112</td>\n",
       "      <td>滕昊华</td>\n",
       "      <td>319845</td>\n",
       "      <td>34180c2a4498438d975dbb4e6d7894dc</td>\n",
       "      <td>7b8747978dc14587bab01790e7799dbe</td>\n",
       "      <td>2019-07-04 20:42:51</td>\n",
       "      <td>2019-07-04 20:49:45</td>\n",
       "      <td>NaN</td>\n",
       "      <td>NaN</td>\n",
       "      <td>ANNO9</td>\n",
       "      <td>RECTANGLE</td>\n",
       "      <td>2</td>\n",
       "      <td>{\"point1\":{\"x\":1040.3027027027026,\"y\":15.33693...</td>\n",
       "      <td>1</td>\n",
       "    </tr>\n",
       "    <tr>\n",
       "      <th>2</th>\n",
       "      <td>13917674112</td>\n",
       "      <td>滕昊华</td>\n",
       "      <td>319846</td>\n",
       "      <td>34180c2a4498438d975dbb4e6d7894dc</td>\n",
       "      <td>7b8747978dc14587bab01790e7799dbe</td>\n",
       "      <td>2019-07-04 20:42:51</td>\n",
       "      <td>2019-07-04 20:49:45</td>\n",
       "      <td>NaN</td>\n",
       "      <td>NaN</td>\n",
       "      <td>ANNO9</td>\n",
       "      <td>RECTANGLE</td>\n",
       "      <td>2</td>\n",
       "      <td>{\"point1\":{\"x\":514.4648648648648,\"y\":1075.7765...</td>\n",
       "      <td>3</td>\n",
       "    </tr>\n",
       "    <tr>\n",
       "      <th>3</th>\n",
       "      <td>13917674112</td>\n",
       "      <td>滕昊华</td>\n",
       "      <td>319847</td>\n",
       "      <td>34180c2a4498438d975dbb4e6d7894dc</td>\n",
       "      <td>7b8747978dc14587bab01790e7799dbe</td>\n",
       "      <td>2019-07-04 20:42:51</td>\n",
       "      <td>2019-07-04 20:49:45</td>\n",
       "      <td>NaN</td>\n",
       "      <td>NaN</td>\n",
       "      <td>ANNO9</td>\n",
       "      <td>RECTANGLE</td>\n",
       "      <td>2</td>\n",
       "      <td>{\"point1\":{\"x\":873.7873873873873,\"y\":815.04864...</td>\n",
       "      <td>3</td>\n",
       "    </tr>\n",
       "    <tr>\n",
       "      <th>4</th>\n",
       "      <td>13917674112</td>\n",
       "      <td>滕昊华</td>\n",
       "      <td>319842</td>\n",
       "      <td>34180c2a4498438d975dbb4e6d7894dc</td>\n",
       "      <td>7b8747978dc14587bab01790e7799dbe</td>\n",
       "      <td>2019-07-04 20:42:51</td>\n",
       "      <td>2019-07-04 20:49:45</td>\n",
       "      <td>NaN</td>\n",
       "      <td>NaN</td>\n",
       "      <td>ANNO9</td>\n",
       "      <td>RECTANGLE</td>\n",
       "      <td>2</td>\n",
       "      <td>{\"point1\":{\"x\":1741.4198198198196,\"y\":17.52792...</td>\n",
       "      <td>1</td>\n",
       "    </tr>\n",
       "  </tbody>\n",
       "</table>\n",
       "</div>"
      ],
      "text/plain": [
       "         用户手机号 用户姓名  影像结果编号                              检查编号  \\\n",
       "0  13917674112  滕昊华  319844  34180c2a4498438d975dbb4e6d7894dc   \n",
       "1  13917674112  滕昊华  319845  34180c2a4498438d975dbb4e6d7894dc   \n",
       "2  13917674112  滕昊华  319846  34180c2a4498438d975dbb4e6d7894dc   \n",
       "3  13917674112  滕昊华  319847  34180c2a4498438d975dbb4e6d7894dc   \n",
       "4  13917674112  滕昊华  319842  34180c2a4498438d975dbb4e6d7894dc   \n",
       "\n",
       "                               序列编号                 开始时间                 提交时间  \\\n",
       "0  7b8747978dc14587bab01790e7799dbe  2019-07-04 20:42:51  2019-07-04 20:49:45   \n",
       "1  7b8747978dc14587bab01790e7799dbe  2019-07-04 20:42:51  2019-07-04 20:49:45   \n",
       "2  7b8747978dc14587bab01790e7799dbe  2019-07-04 20:42:51  2019-07-04 20:49:45   \n",
       "3  7b8747978dc14587bab01790e7799dbe  2019-07-04 20:42:51  2019-07-04 20:49:45   \n",
       "4  7b8747978dc14587bab01790e7799dbe  2019-07-04 20:42:51  2019-07-04 20:49:45   \n",
       "\n",
       "   自定义内容  阴阳性     病灶       影像工具  影像结果类型  \\\n",
       "0    NaN  NaN  ANNO9  RECTANGLE       2   \n",
       "1    NaN  NaN  ANNO9  RECTANGLE       2   \n",
       "2    NaN  NaN  ANNO9  RECTANGLE       2   \n",
       "3    NaN  NaN  ANNO9  RECTANGLE       2   \n",
       "4    NaN  NaN  ANNO9  RECTANGLE       2   \n",
       "\n",
       "                                                影像结果  恶性细胞分类  \n",
       "0  {\"point1\":{\"x\":326.0396396396396,\"y\":348.36756...       1  \n",
       "1  {\"point1\":{\"x\":1040.3027027027026,\"y\":15.33693...       1  \n",
       "2  {\"point1\":{\"x\":514.4648648648648,\"y\":1075.7765...       3  \n",
       "3  {\"point1\":{\"x\":873.7873873873873,\"y\":815.04864...       3  \n",
       "4  {\"point1\":{\"x\":1741.4198198198196,\"y\":17.52792...       1  "
      ]
     },
     "execution_count": 31,
     "metadata": {},
     "output_type": "execute_result"
    }
   ],
   "source": [
    "csv2.head()"
   ]
  },
  {
   "cell_type": "code",
   "execution_count": 32,
   "metadata": {},
   "outputs": [],
   "source": [
    "csv1.rename(columns={'恶性细胞分类(更新)':'恶性细胞分类'}, inplace=True)"
   ]
  },
  {
   "cell_type": "code",
   "execution_count": 35,
   "metadata": {},
   "outputs": [
    {
     "name": "stderr",
     "output_type": "stream",
     "text": [
      "/home/yaoms/anaconda3/envs/PytorchEnv/lib/python3.5/site-packages/pandas/core/frame.py:6211: FutureWarning: Sorting because non-concatenation axis is not aligned. A future version\n",
      "of pandas will change to not sort by default.\n",
      "\n",
      "To accept the future behavior, pass 'sort=False'.\n",
      "\n",
      "To retain the current behavior and silence the warning, pass 'sort=True'.\n",
      "\n",
      "  sort=sort)\n"
     ]
    }
   ],
   "source": [
    "csv = csv1.append(csv2, ignore_index=True)"
   ]
  },
  {
   "cell_type": "code",
   "execution_count": 36,
   "metadata": {},
   "outputs": [
    {
     "data": {
      "text/plain": [
       "2379"
      ]
     },
     "execution_count": 36,
     "metadata": {},
     "output_type": "execute_result"
    }
   ],
   "source": [
    "len(csv)"
   ]
  },
  {
   "cell_type": "code",
   "execution_count": 40,
   "metadata": {},
   "outputs": [],
   "source": [
    "columns = ['序列编号','影像结果', '恶性细胞分类','影像结果编号']\n",
    "csv_save = csv.loc[:, columns]"
   ]
  },
  {
   "cell_type": "code",
   "execution_count": 42,
   "metadata": {},
   "outputs": [
    {
     "data": {
      "text/html": [
       "<div>\n",
       "<style scoped>\n",
       "    .dataframe tbody tr th:only-of-type {\n",
       "        vertical-align: middle;\n",
       "    }\n",
       "\n",
       "    .dataframe tbody tr th {\n",
       "        vertical-align: top;\n",
       "    }\n",
       "\n",
       "    .dataframe thead th {\n",
       "        text-align: right;\n",
       "    }\n",
       "</style>\n",
       "<table border=\"1\" class=\"dataframe\">\n",
       "  <thead>\n",
       "    <tr style=\"text-align: right;\">\n",
       "      <th></th>\n",
       "      <th>序列编号</th>\n",
       "      <th>影像结果</th>\n",
       "      <th>恶性细胞分类</th>\n",
       "      <th>影像结果编号</th>\n",
       "    </tr>\n",
       "  </thead>\n",
       "  <tbody>\n",
       "    <tr>\n",
       "      <th>2374</th>\n",
       "      <td>06d40c98aa124d278eb9422b2bc0d3d8</td>\n",
       "      <td>{\"point1\":{\"x\":414.5103448275862,\"y\":46.124137...</td>\n",
       "      <td>1</td>\n",
       "      <td>332260</td>\n",
       "    </tr>\n",
       "    <tr>\n",
       "      <th>2375</th>\n",
       "      <td>06d40c98aa124d278eb9422b2bc0d3d8</td>\n",
       "      <td>{\"point1\":{\"x\":137.7655172413793,\"y\":324.96551...</td>\n",
       "      <td>1</td>\n",
       "      <td>332257</td>\n",
       "    </tr>\n",
       "    <tr>\n",
       "      <th>2376</th>\n",
       "      <td>06d40c98aa124d278eb9422b2bc0d3d8</td>\n",
       "      <td>{\"point1\":{\"x\":5.682758620689668,\"y\":272.55172...</td>\n",
       "      <td>1</td>\n",
       "      <td>332256</td>\n",
       "    </tr>\n",
       "    <tr>\n",
       "      <th>2377</th>\n",
       "      <td>06d40c98aa124d278eb9422b2bc0d3d8</td>\n",
       "      <td>{\"point1\":{\"x\":43.42068965517245,\"y\":475.91724...</td>\n",
       "      <td>1</td>\n",
       "      <td>332259</td>\n",
       "    </tr>\n",
       "    <tr>\n",
       "      <th>2378</th>\n",
       "      <td>06d40c98aa124d278eb9422b2bc0d3d8</td>\n",
       "      <td>{\"point1\":{\"x\":695.4482758620691,\"y\":197.07586...</td>\n",
       "      <td>1</td>\n",
       "      <td>332258</td>\n",
       "    </tr>\n",
       "  </tbody>\n",
       "</table>\n",
       "</div>"
      ],
      "text/plain": [
       "                                  序列编号  \\\n",
       "2374  06d40c98aa124d278eb9422b2bc0d3d8   \n",
       "2375  06d40c98aa124d278eb9422b2bc0d3d8   \n",
       "2376  06d40c98aa124d278eb9422b2bc0d3d8   \n",
       "2377  06d40c98aa124d278eb9422b2bc0d3d8   \n",
       "2378  06d40c98aa124d278eb9422b2bc0d3d8   \n",
       "\n",
       "                                                   影像结果  恶性细胞分类  影像结果编号  \n",
       "2374  {\"point1\":{\"x\":414.5103448275862,\"y\":46.124137...       1  332260  \n",
       "2375  {\"point1\":{\"x\":137.7655172413793,\"y\":324.96551...       1  332257  \n",
       "2376  {\"point1\":{\"x\":5.682758620689668,\"y\":272.55172...       1  332256  \n",
       "2377  {\"point1\":{\"x\":43.42068965517245,\"y\":475.91724...       1  332259  \n",
       "2378  {\"point1\":{\"x\":695.4482758620691,\"y\":197.07586...       1  332258  "
      ]
     },
     "execution_count": 42,
     "metadata": {},
     "output_type": "execute_result"
    }
   ],
   "source": [
    "csv_save.tail()"
   ]
  },
  {
   "cell_type": "code",
   "execution_count": 43,
   "metadata": {},
   "outputs": [],
   "source": [
    "csv_save.to_csv('/data/AlgProj/tct_yaoms/data/tct_0513/'+'label.csv', index=False)"
   ]
  },
  {
   "cell_type": "code",
   "execution_count": null,
   "metadata": {},
   "outputs": [],
   "source": []
  }
 ],
 "metadata": {
  "kernelspec": {
   "display_name": "Python 2",
   "language": "python",
   "name": "python2"
  },
  "language_info": {
   "codemirror_mode": {
    "name": "ipython",
    "version": 3
   },
   "file_extension": ".py",
   "mimetype": "text/x-python",
   "name": "python",
   "nbconvert_exporter": "python",
   "pygments_lexer": "ipython3",
   "version": "3.5.6"
  }
 },
 "nbformat": 4,
 "nbformat_minor": 2
}
