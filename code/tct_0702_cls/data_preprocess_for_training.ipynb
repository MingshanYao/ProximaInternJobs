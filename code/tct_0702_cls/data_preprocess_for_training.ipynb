{
 "cells": [
  {
   "cell_type": "code",
   "execution_count": 2,
   "metadata": {},
   "outputs": [],
   "source": [
    "import sys\n",
    "import torch\n",
    "import torchvision\n",
    "import pandas as pd\n",
    "import numpy as np\n",
    "import matplotlib.pyplot as plt\n",
    "import torch.nn.functional as F\n",
    "import torch.nn as nn\n",
    "import torch.optim as optim\n",
    "from PIL import Image\n",
    "import torchvision.transforms as transforms\n",
    "import os\n",
    "import cv2\n",
    "from torch.utils.data import DataLoader, TensorDataset, Dataset\n",
    "\n",
    "%load_ext autoreload\n",
    "%autoreload 2\n",
    "%matplotlib inline\n"
   ]
  },
  {
   "cell_type": "code",
   "execution_count": 3,
   "metadata": {},
   "outputs": [],
   "source": [
    "#hyperparameters \n",
    "\n",
    "IMG_SIZE = 224\n",
    "BATCH_SIZE = 32\n"
   ]
  },
  {
   "cell_type": "code",
   "execution_count": 4,
   "metadata": {},
   "outputs": [],
   "source": [
    "#dirs and paths\n",
    "\n",
    "data_dir = '/data/AlgProj/tct_yaoms/data/tct_0702_preprocess_iou0.1_img_series/the_same_region_labeled/'\n",
    "csv_path = '/data/AlgProj/niezl/TCT/TCT_Data/Misc/TCT标注_0702/影像标注结果.csv'\n",
    "\n",
    "csv = pd.read_csv(csv_path)\n",
    "file_names = os.listdir(data_dir)\n",
    "df = pd.DataFrame()\n",
    "df['img_name'] = file_names\n",
    "# df['label'] = None\n",
    "# df['img_path'] = None\n",
    "labels = []\n",
    "img_paths = []\n",
    "for idx in df.index:\n",
    "    img_name = df.loc[idx, 'img_name']\n",
    "    img_ID = int(img_name.split('_')[0])\n",
    "#     print(img_ID, '\\n-----')\n",
    "    label = int(csv.loc[csv['影像结果编号']==img_ID, '恶性细胞分类'])\n",
    "#     print(label)\n",
    "    img_path = data_dir + img_name\n",
    "    labels.append(label)\n",
    "    img_paths.append(img_path)\n",
    "\n",
    "df['label'] = labels\n",
    "df['img_path'] = img_paths"
   ]
  },
  {
   "cell_type": "code",
   "execution_count": 5,
   "metadata": {},
   "outputs": [
    {
     "data": {
      "text/html": [
       "<div>\n",
       "<style scoped>\n",
       "    .dataframe tbody tr th:only-of-type {\n",
       "        vertical-align: middle;\n",
       "    }\n",
       "\n",
       "    .dataframe tbody tr th {\n",
       "        vertical-align: top;\n",
       "    }\n",
       "\n",
       "    .dataframe thead th {\n",
       "        text-align: right;\n",
       "    }\n",
       "</style>\n",
       "<table border=\"1\" class=\"dataframe\">\n",
       "  <thead>\n",
       "    <tr style=\"text-align: right;\">\n",
       "      <th></th>\n",
       "      <th>img_name</th>\n",
       "      <th>label</th>\n",
       "      <th>img_path</th>\n",
       "    </tr>\n",
       "  </thead>\n",
       "  <tbody>\n",
       "    <tr>\n",
       "      <th>0</th>\n",
       "      <td>302841_494fd50c722bfdfb0a8381ad942a42e83fafbf2...</td>\n",
       "      <td>1</td>\n",
       "      <td>/data/AlgProj/tct_yaoms/data/tct_0702_preproce...</td>\n",
       "    </tr>\n",
       "    <tr>\n",
       "      <th>1</th>\n",
       "      <td>291491_412393f4ad4ef06bd60c0b42fdfde47c234861e...</td>\n",
       "      <td>2</td>\n",
       "      <td>/data/AlgProj/tct_yaoms/data/tct_0702_preproce...</td>\n",
       "    </tr>\n",
       "    <tr>\n",
       "      <th>2</th>\n",
       "      <td>283418_8aa1ef362ac94ced2ff9a3973ed17c60594985b...</td>\n",
       "      <td>1</td>\n",
       "      <td>/data/AlgProj/tct_yaoms/data/tct_0702_preproce...</td>\n",
       "    </tr>\n",
       "    <tr>\n",
       "      <th>3</th>\n",
       "      <td>302812_ad96c70645d69ff7ab238052f49f15e2ac38d23...</td>\n",
       "      <td>2</td>\n",
       "      <td>/data/AlgProj/tct_yaoms/data/tct_0702_preproce...</td>\n",
       "    </tr>\n",
       "    <tr>\n",
       "      <th>4</th>\n",
       "      <td>284624_9ae1ba2e424b0541dd228a29574f9da308663bd...</td>\n",
       "      <td>4</td>\n",
       "      <td>/data/AlgProj/tct_yaoms/data/tct_0702_preproce...</td>\n",
       "    </tr>\n",
       "  </tbody>\n",
       "</table>\n",
       "</div>"
      ],
      "text/plain": [
       "                                            img_name  label  \\\n",
       "0  302841_494fd50c722bfdfb0a8381ad942a42e83fafbf2...      1   \n",
       "1  291491_412393f4ad4ef06bd60c0b42fdfde47c234861e...      2   \n",
       "2  283418_8aa1ef362ac94ced2ff9a3973ed17c60594985b...      1   \n",
       "3  302812_ad96c70645d69ff7ab238052f49f15e2ac38d23...      2   \n",
       "4  284624_9ae1ba2e424b0541dd228a29574f9da308663bd...      4   \n",
       "\n",
       "                                            img_path  \n",
       "0  /data/AlgProj/tct_yaoms/data/tct_0702_preproce...  \n",
       "1  /data/AlgProj/tct_yaoms/data/tct_0702_preproce...  \n",
       "2  /data/AlgProj/tct_yaoms/data/tct_0702_preproce...  \n",
       "3  /data/AlgProj/tct_yaoms/data/tct_0702_preproce...  \n",
       "4  /data/AlgProj/tct_yaoms/data/tct_0702_preproce...  "
      ]
     },
     "execution_count": 5,
     "metadata": {},
     "output_type": "execute_result"
    }
   ],
   "source": []
  },
  {
   "cell_type": "code",
   "execution_count": 64,
   "metadata": {},
   "outputs": [],
   "source": [
    "def randomRotation(img_name, times,mode=Image.BICUBIC):\n",
    "    img_id = img_name.split('_')[0]\n",
    "    save_dir = '/data/AlgProj/tct_yaoms/data/tct_0702_preprocess_iou0.1_img_series/the_same_region_labeled_dataaugmentation/'\n",
    "    data_dir = '/data/AlgProj/tct_yaoms/data/tct_0702_preprocess_iou0.1_img_series/the_same_region_labeled/'\n",
    "    img_path = data_dir + img_name\n",
    "    img = Image.open(img_path)\n",
    "    \n",
    "    if times == 1:\n",
    "        save_name = img_id + '_' + '.jpg'\n",
    "        save_path = save_dir + save_name\n",
    "        img.save(save_path, quality=95)\n",
    "    else:\n",
    "        for i in range(times):\n",
    "            random_angle = np.random.randint(1, 360)\n",
    "            img = img.rotate(random_angle, mode)\n",
    "            save_name = img_id + '_'+ str(i) + '.jpg'\n",
    "            save_path = save_dir + save_name\n",
    "            img.save(save_path, quality=95)"
   ]
  },
  {
   "cell_type": "code",
   "execution_count": 65,
   "metadata": {},
   "outputs": [],
   "source": [
    "for idx in df.index:\n",
    "    img_name = df.loc[idx, 'img_name']\n",
    "    label = df.loc[idx,'label']\n",
    "    if label == 1:\n",
    "        times = 1\n",
    "    elif label == 2:\n",
    "        times = 3\n",
    "    elif label == 3:\n",
    "        times = 4\n",
    "    elif label == 4:\n",
    "        times = 3\n",
    "    elif label == 5:\n",
    "        pass\n",
    "    elif label == 6:\n",
    "        times = 40\n",
    "    elif label ==7:\n",
    "        times = 100\n",
    "    randomRotation(img_name, times,mode=Image.BICUBIC)"
   ]
  },
  {
   "cell_type": "code",
   "execution_count": 68,
   "metadata": {},
   "outputs": [],
   "source": [
    "#dirs and paths\n",
    "\n",
    "data_dir = '/data/AlgProj/tct_yaoms/data/tct_0702_preprocess_iou0.1_img_series/the_same_region_labeled_dataaugmentation/'\n",
    "csv_path = '/data/AlgProj/niezl/TCT/TCT_Data/Misc/TCT标注_0702/影像标注结果.csv'\n",
    "\n",
    "csv = pd.read_csv(csv_path)\n",
    "file_names = os.listdir(data_dir)\n",
    "tct_df= pd.DataFrame()\n",
    "tct_df['img_name'] = file_names\n",
    "# df['label'] = None\n",
    "# df['img_path'] = None\n",
    "labels = []\n",
    "img_paths = []\n",
    "for idx in tct_df.index:\n",
    "    img_name = tct_df.loc[idx, 'img_name']\n",
    "    img_ID = int(img_name.split('_')[0])\n",
    "#     print(img_ID, '\\n-----')\n",
    "    label = int(csv.loc[csv['影像结果编号']==img_ID, '恶性细胞分类'])\n",
    "#     print(label)\n",
    "    img_path = data_dir + img_name\n",
    "    labels.append(label)\n",
    "    img_paths.append(img_path)\n",
    "\n",
    "tct_df['label'] = labels\n",
    "tct_df['img_path'] = img_paths"
   ]
  },
  {
   "cell_type": "code",
   "execution_count": 79,
   "metadata": {},
   "outputs": [],
   "source": [
    "bg_df = pd.DataFrame(columns=['img_name', 'label', 'img_path'])\n",
    "bg_root = '/data/AlgProj/tct_yaoms/data/neg/'\n",
    "sub_dirs = os.listdir(bg_root)\n",
    "for sub_dir in sub_dirs:\n",
    "    cur_dir = bg_root + sub_dir + '/'\n",
    "    img_names = os.listdir(cur_dir)\n",
    "    for img_name in img_names:\n",
    "        img_path = cur_dir + img_name\n",
    "        bg_df = bg_df.append([{'img_name':img_name, 'label':0, 'img_path':img_path}], ignore_index=True)\n"
   ]
  },
  {
   "cell_type": "code",
   "execution_count": 84,
   "metadata": {},
   "outputs": [
    {
     "data": {
      "text/plain": [
       "3934"
      ]
     },
     "execution_count": 84,
     "metadata": {},
     "output_type": "execute_result"
    }
   ],
   "source": [
    "all_df = bg_df.loc[:1200,:].append(tct_df, ignore_index=True)\n",
    "len(all_df)"
   ]
  },
  {
   "cell_type": "code",
   "execution_count": 85,
   "metadata": {},
   "outputs": [],
   "source": [
    "all_df.to_csv('/data/AlgProj/tct_yaoms/data/tct_0702_preprocess_iou0.1_img_series/iou0.1dataaumentation.csv', index = False)"
   ]
  },
  {
   "cell_type": "markdown",
   "metadata": {},
   "source": [
    "### 开始训练"
   ]
  },
  {
   "cell_type": "code",
   "execution_count": null,
   "metadata": {},
   "outputs": [],
   "source": [
    "tct_df = pd.read_csv"
   ]
  },
  {
   "cell_type": "code",
   "execution_count": null,
   "metadata": {},
   "outputs": [],
   "source": []
  },
  {
   "cell_type": "code",
   "execution_count": null,
   "metadata": {},
   "outputs": [],
   "source": []
  },
  {
   "cell_type": "code",
   "execution_count": null,
   "metadata": {},
   "outputs": [],
   "source": []
  }
 ],
 "metadata": {
  "kernelspec": {
   "display_name": "Python 3",
   "language": "python",
   "name": "python3"
  },
  "language_info": {
   "codemirror_mode": {
    "name": "ipython",
    "version": 3
   },
   "file_extension": ".py",
   "mimetype": "text/x-python",
   "name": "python",
   "nbconvert_exporter": "python",
   "pygments_lexer": "ipython3",
   "version": "3.5.6"
  }
 },
 "nbformat": 4,
 "nbformat_minor": 2
}
