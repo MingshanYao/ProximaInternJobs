{
 "cells": [
  {
   "cell_type": "code",
   "execution_count": 1,
   "metadata": {},
   "outputs": [
    {
     "data": {
      "text/plain": [
       "'/home/yaoms/anaconda3/envs/PytorchEnv/bin/python'"
      ]
     },
     "execution_count": 1,
     "metadata": {},
     "output_type": "execute_result"
    }
   ],
   "source": [
    "import sys\n",
    "sys.executable"
   ]
  },
  {
   "cell_type": "code",
   "execution_count": 2,
   "metadata": {},
   "outputs": [],
   "source": [
    "import sys\n",
    "import torch\n",
    "import torchvision\n",
    "import pandas as pd\n",
    "import numpy as np\n",
    "import matplotlib.pyplot as plt\n",
    "import torch.nn.functional as F\n",
    "import torch.nn as nn\n",
    "import torch.optim as optim\n",
    "from PIL import Image\n",
    "import torchvision.transforms as transforms\n",
    "import os\n",
    "import cv2\n",
    "from torch.utils.data import DataLoader, TensorDataset, Dataset\n",
    "\n",
    "%load_ext autoreload\n",
    "%autoreload 2\n",
    "%matplotlib inline"
   ]
  },
  {
   "cell_type": "code",
   "execution_count": 3,
   "metadata": {},
   "outputs": [],
   "source": [
    "#hyperparameters \n",
    "\n",
    "IMG_SIZE = 224\n",
    "BATCH_SIZE = 32"
   ]
  },
  {
   "cell_type": "code",
   "execution_count": 7,
   "metadata": {},
   "outputs": [],
   "source": [
    "#dir and path\n",
    "\n",
    "csv_path = '/data/AlgProj/tct_yaoms/data/tct_0702_preprocess_iou0.1_img_series/iou0.1dataaumentation.csv'\n",
    "csv = pd.read_csv(csv_path)\n"
   ]
  },
  {
   "cell_type": "code",
   "execution_count": 9,
   "metadata": {},
   "outputs": [
    {
     "data": {
      "text/html": [
       "<div>\n",
       "<style scoped>\n",
       "    .dataframe tbody tr th:only-of-type {\n",
       "        vertical-align: middle;\n",
       "    }\n",
       "\n",
       "    .dataframe tbody tr th {\n",
       "        vertical-align: top;\n",
       "    }\n",
       "\n",
       "    .dataframe thead th {\n",
       "        text-align: right;\n",
       "    }\n",
       "</style>\n",
       "<table border=\"1\" class=\"dataframe\">\n",
       "  <thead>\n",
       "    <tr style=\"text-align: right;\">\n",
       "      <th></th>\n",
       "      <th>img_name</th>\n",
       "      <th>label</th>\n",
       "      <th>img_path</th>\n",
       "    </tr>\n",
       "  </thead>\n",
       "  <tbody>\n",
       "    <tr>\n",
       "      <th>3414</th>\n",
       "      <td>283196_1.jpg</td>\n",
       "      <td>4</td>\n",
       "      <td>/data/AlgProj/tct_yaoms/data/tct_0702_preproce...</td>\n",
       "    </tr>\n",
       "    <tr>\n",
       "      <th>2681</th>\n",
       "      <td>302660_0.jpg</td>\n",
       "      <td>4</td>\n",
       "      <td>/data/AlgProj/tct_yaoms/data/tct_0702_preproce...</td>\n",
       "    </tr>\n",
       "    <tr>\n",
       "      <th>1932</th>\n",
       "      <td>284170_1.jpg</td>\n",
       "      <td>2</td>\n",
       "      <td>/data/AlgProj/tct_yaoms/data/tct_0702_preproce...</td>\n",
       "    </tr>\n",
       "    <tr>\n",
       "      <th>1087</th>\n",
       "      <td>bd535ced6c384b99b9af961e082fd703_167_3.jpg</td>\n",
       "      <td>0</td>\n",
       "      <td>/data/AlgProj/tct_yaoms/data/neg/bd535ced6c384...</td>\n",
       "    </tr>\n",
       "    <tr>\n",
       "      <th>1605</th>\n",
       "      <td>301897_1.jpg</td>\n",
       "      <td>6</td>\n",
       "      <td>/data/AlgProj/tct_yaoms/data/tct_0702_preproce...</td>\n",
       "    </tr>\n",
       "    <tr>\n",
       "      <th>2503</th>\n",
       "      <td>291394_64.jpg</td>\n",
       "      <td>7</td>\n",
       "      <td>/data/AlgProj/tct_yaoms/data/tct_0702_preproce...</td>\n",
       "    </tr>\n",
       "    <tr>\n",
       "      <th>1649</th>\n",
       "      <td>291394_5.jpg</td>\n",
       "      <td>7</td>\n",
       "      <td>/data/AlgProj/tct_yaoms/data/tct_0702_preproce...</td>\n",
       "    </tr>\n",
       "    <tr>\n",
       "      <th>2088</th>\n",
       "      <td>299223_0.jpg</td>\n",
       "      <td>3</td>\n",
       "      <td>/data/AlgProj/tct_yaoms/data/tct_0702_preproce...</td>\n",
       "    </tr>\n",
       "    <tr>\n",
       "      <th>3367</th>\n",
       "      <td>291394_48.jpg</td>\n",
       "      <td>7</td>\n",
       "      <td>/data/AlgProj/tct_yaoms/data/tct_0702_preproce...</td>\n",
       "    </tr>\n",
       "    <tr>\n",
       "      <th>3640</th>\n",
       "      <td>281735_.jpg</td>\n",
       "      <td>1</td>\n",
       "      <td>/data/AlgProj/tct_yaoms/data/tct_0702_preproce...</td>\n",
       "    </tr>\n",
       "  </tbody>\n",
       "</table>\n",
       "</div>"
      ],
      "text/plain": [
       "                                        img_name  label  \\\n",
       "3414                                283196_1.jpg      4   \n",
       "2681                                302660_0.jpg      4   \n",
       "1932                                284170_1.jpg      2   \n",
       "1087  bd535ced6c384b99b9af961e082fd703_167_3.jpg      0   \n",
       "1605                                301897_1.jpg      6   \n",
       "2503                               291394_64.jpg      7   \n",
       "1649                                291394_5.jpg      7   \n",
       "2088                                299223_0.jpg      3   \n",
       "3367                               291394_48.jpg      7   \n",
       "3640                                 281735_.jpg      1   \n",
       "\n",
       "                                               img_path  \n",
       "3414  /data/AlgProj/tct_yaoms/data/tct_0702_preproce...  \n",
       "2681  /data/AlgProj/tct_yaoms/data/tct_0702_preproce...  \n",
       "1932  /data/AlgProj/tct_yaoms/data/tct_0702_preproce...  \n",
       "1087  /data/AlgProj/tct_yaoms/data/neg/bd535ced6c384...  \n",
       "1605  /data/AlgProj/tct_yaoms/data/tct_0702_preproce...  \n",
       "2503  /data/AlgProj/tct_yaoms/data/tct_0702_preproce...  \n",
       "1649  /data/AlgProj/tct_yaoms/data/tct_0702_preproce...  \n",
       "2088  /data/AlgProj/tct_yaoms/data/tct_0702_preproce...  \n",
       "3367  /data/AlgProj/tct_yaoms/data/tct_0702_preproce...  \n",
       "3640  /data/AlgProj/tct_yaoms/data/tct_0702_preproce...  "
      ]
     },
     "execution_count": 9,
     "metadata": {},
     "output_type": "execute_result"
    }
   ],
   "source": [
    "csv.sample(frac=1).reset_.head(10)"
   ]
  },
  {
   "cell_type": "code",
   "execution_count": null,
   "metadata": {},
   "outputs": [],
   "source": []
  },
  {
   "cell_type": "code",
   "execution_count": null,
   "metadata": {},
   "outputs": [],
   "source": [
    "#train test dataset split\n",
    "#train val transforms definition\n",
    "\n",
    "def train_test_split(test_size, shuffle=True):\n",
    "    if shuffle:\n",
    "        df.sample(frac=1).reset_index(drop=True)"
   ]
  },
  {
   "cell_type": "code",
   "execution_count": null,
   "metadata": {},
   "outputs": [],
   "source": []
  },
  {
   "cell_type": "code",
   "execution_count": 6,
   "metadata": {},
   "outputs": [],
   "source": [
    "class TCT_Dataset(Dataset):\n",
    "    def __init__(self, ):\n",
    "        pass\n",
    "    \n",
    "    def __len__(self):\n",
    "        pass\n",
    "    \n",
    "    def __getitem__(self):\n",
    "        pass"
   ]
  },
  {
   "cell_type": "code",
   "execution_count": null,
   "metadata": {},
   "outputs": [],
   "source": []
  }
 ],
 "metadata": {
  "kernelspec": {
   "display_name": "Python 3",
   "language": "python",
   "name": "python3"
  },
  "language_info": {
   "codemirror_mode": {
    "name": "ipython",
    "version": 3
   },
   "file_extension": ".py",
   "mimetype": "text/x-python",
   "name": "python",
   "nbconvert_exporter": "python",
   "pygments_lexer": "ipython3",
   "version": "3.5.6"
  }
 },
 "nbformat": 4,
 "nbformat_minor": 2
}
