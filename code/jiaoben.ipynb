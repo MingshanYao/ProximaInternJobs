{
 "cells": [
  {
   "cell_type": "code",
   "execution_count": 1,
   "metadata": {},
   "outputs": [
    {
     "data": {
      "text/plain": [
       "'/home/niezl/anaconda3/bin/python'"
      ]
     },
     "execution_count": 1,
     "metadata": {},
     "output_type": "execute_result"
    }
   ],
   "source": [
    "import sys\n",
    "sys.executable"
   ]
  },
  {
   "cell_type": "code",
   "execution_count": 2,
   "metadata": {},
   "outputs": [],
   "source": [
    "data_dir = '/data/AlgProj/niezl/TCT/1_DataBase/20190627/'\n",
    "csv_path = '/data/AlgProj/niezl/TCT/TCT_Data/Misc/TCT_0626_part1/影像标注结果.csv'"
   ]
  },
  {
   "cell_type": "code",
   "execution_count": 8,
   "metadata": {},
   "outputs": [
    {
     "data": {
      "text/plain": [
       "716"
      ]
     },
     "execution_count": 8,
     "metadata": {},
     "output_type": "execute_result"
    }
   ],
   "source": [
    "len(os.listdir(data_dir))"
   ]
  },
  {
   "cell_type": "code",
   "execution_count": 1,
   "metadata": {},
   "outputs": [],
   "source": [
    "import pandas as pd\n",
    "import os\n",
    "from PIL import Image"
   ]
  },
  {
   "cell_type": "code",
   "execution_count": 22,
   "metadata": {},
   "outputs": [
    {
     "data": {
      "text/plain": [
       "array([286015, 286020, 286016, ..., 285871, 285882, 285883])"
      ]
     },
     "execution_count": 22,
     "metadata": {},
     "output_type": "execute_result"
    }
   ],
   "source": [
    "csv['影像结果编号'].unique()"
   ]
  },
  {
   "cell_type": "code",
   "execution_count": 3,
   "metadata": {},
   "outputs": [
    {
     "data": {
      "text/html": [
       "<div>\n",
       "<style scoped>\n",
       "    .dataframe tbody tr th:only-of-type {\n",
       "        vertical-align: middle;\n",
       "    }\n",
       "\n",
       "    .dataframe tbody tr th {\n",
       "        vertical-align: top;\n",
       "    }\n",
       "\n",
       "    .dataframe thead th {\n",
       "        text-align: right;\n",
       "    }\n",
       "</style>\n",
       "<table border=\"1\" class=\"dataframe\">\n",
       "  <thead>\n",
       "    <tr style=\"text-align: right;\">\n",
       "      <th></th>\n",
       "      <th>用户手机号</th>\n",
       "      <th>用户姓名</th>\n",
       "      <th>影像结果编号</th>\n",
       "      <th>检查编号</th>\n",
       "      <th>序列编号</th>\n",
       "      <th>开始时间</th>\n",
       "      <th>提交时间</th>\n",
       "      <th>自定义内容</th>\n",
       "      <th>阴阳性</th>\n",
       "      <th>病灶</th>\n",
       "      <th>...</th>\n",
       "      <th>影像结果类型</th>\n",
       "      <th>影像结果</th>\n",
       "      <th>恶性细胞分类</th>\n",
       "      <th>TCT病灶类型</th>\n",
       "      <th>核膜形状</th>\n",
       "      <th>核仁</th>\n",
       "      <th>染色质</th>\n",
       "      <th>细胞核大小</th>\n",
       "      <th>细胞形态</th>\n",
       "      <th>trusted</th>\n",
       "    </tr>\n",
       "  </thead>\n",
       "  <tbody>\n",
       "    <tr>\n",
       "      <th>0</th>\n",
       "      <td>13834620496</td>\n",
       "      <td>杜有凤</td>\n",
       "      <td>286015</td>\n",
       "      <td>7da7041e53d04084a62b9af2f312970f</td>\n",
       "      <td>7da1b776b6b20a924bf79101cea615a10a977031</td>\n",
       "      <td>2019-06-20 20:11:04</td>\n",
       "      <td>2019-06-20 20:15:42</td>\n",
       "      <td>NaN</td>\n",
       "      <td>NaN</td>\n",
       "      <td>ANNO9</td>\n",
       "      <td>...</td>\n",
       "      <td>2</td>\n",
       "      <td>{\"point1\":{\"x\":51.11732221744393,\"y\":172.69440...</td>\n",
       "      <td>1</td>\n",
       "      <td>1</td>\n",
       "      <td>2</td>\n",
       "      <td>3</td>\n",
       "      <td>1</td>\n",
       "      <td>2</td>\n",
       "      <td>1</td>\n",
       "      <td>0</td>\n",
       "    </tr>\n",
       "    <tr>\n",
       "      <th>1</th>\n",
       "      <td>13834620496</td>\n",
       "      <td>杜有凤</td>\n",
       "      <td>286020</td>\n",
       "      <td>7da7041e53d04084a62b9af2f312970f</td>\n",
       "      <td>7da1b776b6b20a924bf79101cea615a10a977031</td>\n",
       "      <td>2019-06-20 20:11:04</td>\n",
       "      <td>2019-06-20 20:15:42</td>\n",
       "      <td>NaN</td>\n",
       "      <td>NaN</td>\n",
       "      <td>ANNO9</td>\n",
       "      <td>...</td>\n",
       "      <td>2</td>\n",
       "      <td>{\"point1\":{\"x\":450.7662079431651,\"y\":657.38299...</td>\n",
       "      <td>2</td>\n",
       "      <td>2</td>\n",
       "      <td>3</td>\n",
       "      <td>3</td>\n",
       "      <td>1</td>\n",
       "      <td>1</td>\n",
       "      <td>1</td>\n",
       "      <td>0</td>\n",
       "    </tr>\n",
       "    <tr>\n",
       "      <th>2</th>\n",
       "      <td>13834620496</td>\n",
       "      <td>杜有凤</td>\n",
       "      <td>286016</td>\n",
       "      <td>7da7041e53d04084a62b9af2f312970f</td>\n",
       "      <td>7da1b776b6b20a924bf79101cea615a10a977031</td>\n",
       "      <td>2019-06-20 20:11:04</td>\n",
       "      <td>2019-06-20 20:15:42</td>\n",
       "      <td>NaN</td>\n",
       "      <td>NaN</td>\n",
       "      <td>ANNO9</td>\n",
       "      <td>...</td>\n",
       "      <td>2</td>\n",
       "      <td>{\"point1\":{\"x\":223.83612888654102,\"y\":357.5555...</td>\n",
       "      <td>2</td>\n",
       "      <td>2</td>\n",
       "      <td>3</td>\n",
       "      <td>3</td>\n",
       "      <td>1</td>\n",
       "      <td>1</td>\n",
       "      <td>1</td>\n",
       "      <td>0</td>\n",
       "    </tr>\n",
       "  </tbody>\n",
       "</table>\n",
       "<p>3 rows × 21 columns</p>\n",
       "</div>"
      ],
      "text/plain": [
       "         用户手机号 用户姓名  影像结果编号                              检查编号  \\\n",
       "0  13834620496  杜有凤  286015  7da7041e53d04084a62b9af2f312970f   \n",
       "1  13834620496  杜有凤  286020  7da7041e53d04084a62b9af2f312970f   \n",
       "2  13834620496  杜有凤  286016  7da7041e53d04084a62b9af2f312970f   \n",
       "\n",
       "                                       序列编号                 开始时间  \\\n",
       "0  7da1b776b6b20a924bf79101cea615a10a977031  2019-06-20 20:11:04   \n",
       "1  7da1b776b6b20a924bf79101cea615a10a977031  2019-06-20 20:11:04   \n",
       "2  7da1b776b6b20a924bf79101cea615a10a977031  2019-06-20 20:11:04   \n",
       "\n",
       "                  提交时间  自定义内容  阴阳性     病灶   ...    影像结果类型  \\\n",
       "0  2019-06-20 20:15:42    NaN  NaN  ANNO9   ...         2   \n",
       "1  2019-06-20 20:15:42    NaN  NaN  ANNO9   ...         2   \n",
       "2  2019-06-20 20:15:42    NaN  NaN  ANNO9   ...         2   \n",
       "\n",
       "                                                影像结果 恶性细胞分类  TCT病灶类型  核膜形状  \\\n",
       "0  {\"point1\":{\"x\":51.11732221744393,\"y\":172.69440...      1        1     2   \n",
       "1  {\"point1\":{\"x\":450.7662079431651,\"y\":657.38299...      2        2     3   \n",
       "2  {\"point1\":{\"x\":223.83612888654102,\"y\":357.5555...      2        2     3   \n",
       "\n",
       "   核仁  染色质  细胞核大小  细胞形态  trusted  \n",
       "0   3    1      2     1        0  \n",
       "1   3    1      1     1        0  \n",
       "2   3    1      1     1        0  \n",
       "\n",
       "[3 rows x 21 columns]"
      ]
     },
     "execution_count": 3,
     "metadata": {},
     "output_type": "execute_result"
    }
   ],
   "source": [
    "csv = pd.read_csv(csv_path)\n",
    "csv['trusted'] = 0\n",
    "csv.head(3)\n"
   ]
  },
  {
   "cell_type": "code",
   "execution_count": 4,
   "metadata": {},
   "outputs": [
    {
     "data": {
      "text/plain": [
       "2    991\n",
       "1    989\n",
       "4    422\n",
       "3    226\n",
       "6     15\n",
       "7      6\n",
       "5      6\n",
       "Name: 恶性细胞分类, dtype: int64"
      ]
     },
     "execution_count": 4,
     "metadata": {},
     "output_type": "execute_result"
    }
   ],
   "source": [
    "csv['恶性细胞分类'].value_counts()"
   ]
  },
  {
   "cell_type": "code",
   "execution_count": 12,
   "metadata": {},
   "outputs": [
    {
     "data": {
      "text/html": [
       "<div>\n",
       "<style scoped>\n",
       "    .dataframe tbody tr th:only-of-type {\n",
       "        vertical-align: middle;\n",
       "    }\n",
       "\n",
       "    .dataframe tbody tr th {\n",
       "        vertical-align: top;\n",
       "    }\n",
       "\n",
       "    .dataframe thead th {\n",
       "        text-align: right;\n",
       "    }\n",
       "</style>\n",
       "<table border=\"1\" class=\"dataframe\">\n",
       "  <thead>\n",
       "    <tr style=\"text-align: right;\">\n",
       "      <th></th>\n",
       "      <th>用户手机号</th>\n",
       "      <th>用户姓名</th>\n",
       "      <th>影像结果编号</th>\n",
       "      <th>检查编号</th>\n",
       "      <th>序列编号</th>\n",
       "      <th>开始时间</th>\n",
       "      <th>提交时间</th>\n",
       "      <th>自定义内容</th>\n",
       "      <th>阴阳性</th>\n",
       "      <th>病灶</th>\n",
       "      <th>影像工具</th>\n",
       "      <th>影像结果类型</th>\n",
       "      <th>影像结果</th>\n",
       "      <th>恶性细胞分类</th>\n",
       "      <th>TCT病灶类型</th>\n",
       "      <th>核膜形状</th>\n",
       "      <th>核仁</th>\n",
       "      <th>染色质</th>\n",
       "      <th>细胞核大小</th>\n",
       "      <th>细胞形态</th>\n",
       "    </tr>\n",
       "  </thead>\n",
       "  <tbody>\n",
       "    <tr>\n",
       "      <th>0</th>\n",
       "      <td>13834620496</td>\n",
       "      <td>杜有凤</td>\n",
       "      <td>286015</td>\n",
       "      <td>7da7041e53d04084a62b9af2f312970f</td>\n",
       "      <td>7da1b776b6b20a924bf79101cea615a10a977031</td>\n",
       "      <td>2019-06-20 20:11:04</td>\n",
       "      <td>2019-06-20 20:15:42</td>\n",
       "      <td>NaN</td>\n",
       "      <td>NaN</td>\n",
       "      <td>ANNO9</td>\n",
       "      <td>RECTANGLE</td>\n",
       "      <td>2</td>\n",
       "      <td>{\"point1\":{\"x\":51.11732221744393,\"y\":172.69440...</td>\n",
       "      <td>1</td>\n",
       "      <td>1</td>\n",
       "      <td>2</td>\n",
       "      <td>3</td>\n",
       "      <td>1</td>\n",
       "      <td>2</td>\n",
       "      <td>1</td>\n",
       "    </tr>\n",
       "    <tr>\n",
       "      <th>1</th>\n",
       "      <td>13834620496</td>\n",
       "      <td>杜有凤</td>\n",
       "      <td>286020</td>\n",
       "      <td>7da7041e53d04084a62b9af2f312970f</td>\n",
       "      <td>7da1b776b6b20a924bf79101cea615a10a977031</td>\n",
       "      <td>2019-06-20 20:11:04</td>\n",
       "      <td>2019-06-20 20:15:42</td>\n",
       "      <td>NaN</td>\n",
       "      <td>NaN</td>\n",
       "      <td>ANNO9</td>\n",
       "      <td>RECTANGLE</td>\n",
       "      <td>2</td>\n",
       "      <td>{\"point1\":{\"x\":450.7662079431651,\"y\":657.38299...</td>\n",
       "      <td>2</td>\n",
       "      <td>2</td>\n",
       "      <td>3</td>\n",
       "      <td>3</td>\n",
       "      <td>1</td>\n",
       "      <td>1</td>\n",
       "      <td>1</td>\n",
       "    </tr>\n",
       "    <tr>\n",
       "      <th>2</th>\n",
       "      <td>13834620496</td>\n",
       "      <td>杜有凤</td>\n",
       "      <td>286016</td>\n",
       "      <td>7da7041e53d04084a62b9af2f312970f</td>\n",
       "      <td>7da1b776b6b20a924bf79101cea615a10a977031</td>\n",
       "      <td>2019-06-20 20:11:04</td>\n",
       "      <td>2019-06-20 20:15:42</td>\n",
       "      <td>NaN</td>\n",
       "      <td>NaN</td>\n",
       "      <td>ANNO9</td>\n",
       "      <td>RECTANGLE</td>\n",
       "      <td>2</td>\n",
       "      <td>{\"point1\":{\"x\":223.83612888654102,\"y\":357.5555...</td>\n",
       "      <td>2</td>\n",
       "      <td>2</td>\n",
       "      <td>3</td>\n",
       "      <td>3</td>\n",
       "      <td>1</td>\n",
       "      <td>1</td>\n",
       "      <td>1</td>\n",
       "    </tr>\n",
       "    <tr>\n",
       "      <th>3</th>\n",
       "      <td>13834620496</td>\n",
       "      <td>杜有凤</td>\n",
       "      <td>286017</td>\n",
       "      <td>7da7041e53d04084a62b9af2f312970f</td>\n",
       "      <td>7da1b776b6b20a924bf79101cea615a10a977031</td>\n",
       "      <td>2019-06-20 20:11:04</td>\n",
       "      <td>2019-06-20 20:15:42</td>\n",
       "      <td>NaN</td>\n",
       "      <td>NaN</td>\n",
       "      <td>ANNO9</td>\n",
       "      <td>RECTANGLE</td>\n",
       "      <td>2</td>\n",
       "      <td>{\"point1\":{\"x\":880.5741085795165,\"y\":61.268349...</td>\n",
       "      <td>2</td>\n",
       "      <td>2</td>\n",
       "      <td>3</td>\n",
       "      <td>3</td>\n",
       "      <td>1</td>\n",
       "      <td>1</td>\n",
       "      <td>1</td>\n",
       "    </tr>\n",
       "    <tr>\n",
       "      <th>4</th>\n",
       "      <td>13834620496</td>\n",
       "      <td>杜有凤</td>\n",
       "      <td>286019</td>\n",
       "      <td>7da7041e53d04084a62b9af2f312970f</td>\n",
       "      <td>7da1b776b6b20a924bf79101cea615a10a977031</td>\n",
       "      <td>2019-06-20 20:11:04</td>\n",
       "      <td>2019-06-20 20:15:42</td>\n",
       "      <td>NaN</td>\n",
       "      <td>NaN</td>\n",
       "      <td>ANNO9</td>\n",
       "      <td>RECTANGLE</td>\n",
       "      <td>2</td>\n",
       "      <td>{\"point1\":{\"x\":51.355827028882416,\"y\":435.2893...</td>\n",
       "      <td>2</td>\n",
       "      <td>1</td>\n",
       "      <td>3</td>\n",
       "      <td>3</td>\n",
       "      <td>1</td>\n",
       "      <td>1</td>\n",
       "      <td>1</td>\n",
       "    </tr>\n",
       "    <tr>\n",
       "      <th>399</th>\n",
       "      <td>18019411780</td>\n",
       "      <td>汪利萍</td>\n",
       "      <td>286716</td>\n",
       "      <td>7da7041e53d04084a62b9af2f312970f</td>\n",
       "      <td>7da1b776b6b20a924bf79101cea615a10a977031</td>\n",
       "      <td>2019-06-21 09:40:07</td>\n",
       "      <td>2019-06-21 09:40:44</td>\n",
       "      <td>NaN</td>\n",
       "      <td>NaN</td>\n",
       "      <td>ANNO9</td>\n",
       "      <td>RECTANGLE</td>\n",
       "      <td>2</td>\n",
       "      <td>{\"point1\":{\"x\":0,\"y\":702.0655367231639,\"highli...</td>\n",
       "      <td>3</td>\n",
       "      <td>2</td>\n",
       "      <td>2</td>\n",
       "      <td>3</td>\n",
       "      <td>1</td>\n",
       "      <td>1</td>\n",
       "      <td>1</td>\n",
       "    </tr>\n",
       "    <tr>\n",
       "      <th>400</th>\n",
       "      <td>18019411780</td>\n",
       "      <td>汪利萍</td>\n",
       "      <td>286718</td>\n",
       "      <td>7da7041e53d04084a62b9af2f312970f</td>\n",
       "      <td>7da1b776b6b20a924bf79101cea615a10a977031</td>\n",
       "      <td>2019-06-21 09:40:07</td>\n",
       "      <td>2019-06-21 09:40:44</td>\n",
       "      <td>NaN</td>\n",
       "      <td>NaN</td>\n",
       "      <td>ANNO9</td>\n",
       "      <td>RECTANGLE</td>\n",
       "      <td>2</td>\n",
       "      <td>{\"point1\":{\"x\":365.3242937853107,\"y\":115.79661...</td>\n",
       "      <td>3</td>\n",
       "      <td>2</td>\n",
       "      <td>1</td>\n",
       "      <td>3</td>\n",
       "      <td>1</td>\n",
       "      <td>2</td>\n",
       "      <td>1</td>\n",
       "    </tr>\n",
       "  </tbody>\n",
       "</table>\n",
       "</div>"
      ],
      "text/plain": [
       "           用户手机号 用户姓名  影像结果编号                              检查编号  \\\n",
       "0    13834620496  杜有凤  286015  7da7041e53d04084a62b9af2f312970f   \n",
       "1    13834620496  杜有凤  286020  7da7041e53d04084a62b9af2f312970f   \n",
       "2    13834620496  杜有凤  286016  7da7041e53d04084a62b9af2f312970f   \n",
       "3    13834620496  杜有凤  286017  7da7041e53d04084a62b9af2f312970f   \n",
       "4    13834620496  杜有凤  286019  7da7041e53d04084a62b9af2f312970f   \n",
       "399  18019411780  汪利萍  286716  7da7041e53d04084a62b9af2f312970f   \n",
       "400  18019411780  汪利萍  286718  7da7041e53d04084a62b9af2f312970f   \n",
       "\n",
       "                                         序列编号                 开始时间  \\\n",
       "0    7da1b776b6b20a924bf79101cea615a10a977031  2019-06-20 20:11:04   \n",
       "1    7da1b776b6b20a924bf79101cea615a10a977031  2019-06-20 20:11:04   \n",
       "2    7da1b776b6b20a924bf79101cea615a10a977031  2019-06-20 20:11:04   \n",
       "3    7da1b776b6b20a924bf79101cea615a10a977031  2019-06-20 20:11:04   \n",
       "4    7da1b776b6b20a924bf79101cea615a10a977031  2019-06-20 20:11:04   \n",
       "399  7da1b776b6b20a924bf79101cea615a10a977031  2019-06-21 09:40:07   \n",
       "400  7da1b776b6b20a924bf79101cea615a10a977031  2019-06-21 09:40:07   \n",
       "\n",
       "                    提交时间  自定义内容  阴阳性     病灶       影像工具  影像结果类型  \\\n",
       "0    2019-06-20 20:15:42    NaN  NaN  ANNO9  RECTANGLE       2   \n",
       "1    2019-06-20 20:15:42    NaN  NaN  ANNO9  RECTANGLE       2   \n",
       "2    2019-06-20 20:15:42    NaN  NaN  ANNO9  RECTANGLE       2   \n",
       "3    2019-06-20 20:15:42    NaN  NaN  ANNO9  RECTANGLE       2   \n",
       "4    2019-06-20 20:15:42    NaN  NaN  ANNO9  RECTANGLE       2   \n",
       "399  2019-06-21 09:40:44    NaN  NaN  ANNO9  RECTANGLE       2   \n",
       "400  2019-06-21 09:40:44    NaN  NaN  ANNO9  RECTANGLE       2   \n",
       "\n",
       "                                                  影像结果  恶性细胞分类  TCT病灶类型  核膜形状  \\\n",
       "0    {\"point1\":{\"x\":51.11732221744393,\"y\":172.69440...       1        1     2   \n",
       "1    {\"point1\":{\"x\":450.7662079431651,\"y\":657.38299...       2        2     3   \n",
       "2    {\"point1\":{\"x\":223.83612888654102,\"y\":357.5555...       2        2     3   \n",
       "3    {\"point1\":{\"x\":880.5741085795165,\"y\":61.268349...       2        2     3   \n",
       "4    {\"point1\":{\"x\":51.355827028882416,\"y\":435.2893...       2        1     3   \n",
       "399  {\"point1\":{\"x\":0,\"y\":702.0655367231639,\"highli...       3        2     2   \n",
       "400  {\"point1\":{\"x\":365.3242937853107,\"y\":115.79661...       3        2     1   \n",
       "\n",
       "     核仁  染色质  细胞核大小  细胞形态  \n",
       "0     3    1      2     1  \n",
       "1     3    1      1     1  \n",
       "2     3    1      1     1  \n",
       "3     3    1      1     1  \n",
       "4     3    1      1     1  \n",
       "399   3    1      1     1  \n",
       "400   3    1      2     1  "
      ]
     },
     "execution_count": 12,
     "metadata": {},
     "output_type": "execute_result"
    }
   ],
   "source": [
    "series_id = '7da1b776b6b20a924bf79101cea615a10a977031'\n",
    "doctor_csv = csv[csv['序列编号']==series_id]\n",
    "doctors = doctor_csv['用户姓名'].unique()\n"
   ]
  },
  {
   "cell_type": "code",
   "execution_count": 2,
   "metadata": {},
   "outputs": [],
   "source": [
    "import os\n",
    "import pandas as pd\n",
    "import json\n",
    "from PIL import Image\n",
    "import random\n",
    "\n",
    "class TCTFilePreprocess():\n",
    "    def __init__(self, data_dir, csv_path, save_dir):\n",
    "        self.data_dir = data_dir\n",
    "        self.labels = pd.read_csv(csv_path)\n",
    "        self.save_dir = save_dir\n",
    "        self.series_id = self.labels['序列编号'].unique()\n",
    "        \n",
    "        self.labels['trusted'] = 0\n",
    "        self.float2int()\n",
    "    \n",
    "    def IOU(self, boxA, boxB):\n",
    "        \n",
    "        xA = max(boxA[0], boxB[0])\n",
    "        yA = max(boxA[1], boxB[1])\n",
    "        xB = min(boxA[2], boxB[2])\n",
    "        yB = min(boxA[3], boxB[3])\n",
    "        \n",
    "        interArea = max(0, xB - xA + 1) * max(0, yB - yA + 1)\n",
    "\n",
    "        boxAArea = (boxA[2] - boxA[0] + 1) * (boxA[3] - boxA[1] + 1)\n",
    "        boxBArea = (boxB[2] - boxB[0] + 1) * (boxB[3] - boxB[1] + 1)\n",
    "\n",
    "        iou = interArea / float(boxAArea + boxBArea - interArea)\n",
    "\n",
    "        return iou\n",
    "    \n",
    "    def float2int(self):\n",
    "        self.labels['x_min'] = 0\n",
    "        self.labels['y_min'] = 0\n",
    "        self.labels['x_max'] = 0\n",
    "        self.labels['y_max'] = 0\n",
    "        for idx in range(len(self.labels)):\n",
    "            cur_dict = json.loads(self.labels.iloc[idx,:]['影像结果'])\n",
    "            self.labels.loc[idx,'x_min'] = int(cur_dict['point1']['x'])\n",
    "            self.labels.loc[idx,'y_min'] = int(cur_dict['point1']['y'])\n",
    "            self.labels.loc[idx,'x_max'] = int(cur_dict['point2']['x'])\n",
    "            self.labels.loc[idx,'y_max'] = int(cur_dict['point2']['y'])\n",
    "\n",
    "    def remove_untrusted_label(self,iou_threshold):\n",
    "        one_doctor_labeled = []\n",
    "        for s_id in self.series_id:\n",
    "            csv_s_id = self.labels.loc[self.labels['序列编号']==s_id]\n",
    "            doctors = csv_s_id['用户姓名'].unique()\n",
    "            if len(doctors) < 2:\n",
    "                temp = csv_s_id['序列编号'].unique()[0]\n",
    "                one_doctor_labeled.append(temp)\n",
    "                self.labels.loc[self.labels['序列编号']==temp, 'trusted'] = -1\n",
    "                continue\n",
    "            doctor1_csv = csv_s_id.loc[csv_s_id['用户姓名']==doctors[0]]\n",
    "            doctor2_csv = csv_s_id.loc[csv_s_id['用户姓名']==doctors[1]]\n",
    "\n",
    "            for i in list(doctor1_csv.index):\n",
    "                for j in list(doctor2_csv.index):\n",
    "                    x11 = doctor1_csv.loc[i,'x_min']\n",
    "                    y11 = doctor1_csv.loc[i,'y_min']\n",
    "                    x12 = doctor1_csv.loc[i,'x_max']\n",
    "                    y12 = doctor1_csv.loc[i,'y_max']\n",
    "                    region1 = [x11, y11, x12, y12]\n",
    "                    x21 = doctor2_csv.loc[j,'x_min']\n",
    "                    y21 = doctor2_csv.loc[j,'y_min']\n",
    "                    x22 = doctor2_csv.loc[j,'x_max']\n",
    "                    y22 = doctor2_csv.loc[j,'y_max']\n",
    "                    region2 = [x21, y21, x22, y22]\n",
    "                    iou = self.IOU(region1, region2)\n",
    "                    \n",
    "                    num_i = doctor1_csv.loc[i,'影像结果编号']\n",
    "                    num_j = doctor2_csv.loc[j,'影像结果编号']\n",
    "                    if iou >= iou_threshold:\n",
    "                        self.labels.loc[self.labels['影像结果编号']==num_i,'trusted'] = 1\n",
    "                        self.labels.loc[self.labels['影像结果编号']==num_j,'trusted'] = 1\n",
    "        \n",
    "        #记录下trusted=0的序列号\n",
    "        file_path = self.save_dir + 'untrusted_series_id.txt'\n",
    "        if not self.check_exist(file_path):\n",
    "            with open(file_path, 'a') as f:\n",
    "                untrusted_series = self.labels.loc[self.labels['trusted']==0, '序列编号'].unique()\n",
    "                for i in untrusted_series: \n",
    "                    f.write(i)\n",
    "                    f.write('\\n')\n",
    "        else:\n",
    "            print(\"'untrusted_series_id.txt'文件已存在\")\n",
    "        #记录一个医生标注的序列编号\n",
    "        file_path = self.save_dir + 'one_doctor_labeled.txt'\n",
    "        if not self.check_exist(file_path):\n",
    "            with open(file_path, 'a') as f:\n",
    "                for i in one_doctor_labeled:\n",
    "                    type(i)\n",
    "                    f.write(i)\n",
    "                    f.write('\\n')\n",
    "        else:\n",
    "            print('one_doctor_labeled.txt已存在')\n",
    "        \n",
    "\n",
    "    def produce_new_label(self):\n",
    "        columns = ['序列编号','x_min','y_min','x_max','y_max','恶性细胞分类','TCT病灶类型','核膜形状','核仁','染色质','细胞核大小','细胞形态','trusted']\n",
    "        path = self.save_dir + 'detail_infomation.csv'\n",
    "        if not self.check_exist(path):\n",
    "            self.labels.to_csv(path,columns=columns, index=False)\n",
    "        else:\n",
    "            print('detail_infomation.csv文件已存在')\n",
    "        \n",
    "    \n",
    "    def crop_malignant(self):\n",
    "        '''\n",
    "        trusted: -1, 0, 1 stands for one doctor labeled, different cell two doctor labeled, the same cell two doctor labeled\n",
    "        '''\n",
    "        trusted_nums = self.labels['trusted'].unique()\n",
    "        for trusted in trusted_nums:\n",
    "            dataframe = self.labels.loc[self.labels['trusted'] == trusted]\n",
    "            print('len of dataframe',len(dataframe))\n",
    "            if trusted == -1:\n",
    "                cur_dir = 'one_doctor_labeled/'\n",
    "            elif trusted == 0:\n",
    "                cur_dir = 'different_region_labeled/'\n",
    "            elif trusted == 1:\n",
    "                cur_dir = 'the_same_region_labeled/'\n",
    "            \n",
    "            save_dirs = self.save_dir + cur_dir\n",
    "            if not self.check_exist(save_dirs):\n",
    "                os.mkdir(save_dirs)\n",
    "\n",
    "            unique_series = dataframe['序列编号'].unique()\n",
    "\n",
    "            for series in unique_series:\n",
    "                cur_df = dataframe.loc[dataframe['序列编号']==series]\n",
    "                if trusted == 1:\n",
    "                    cur_df = cur_df.loc[cur_df['恶性细胞分类']!=1]\n",
    "#                     doctors = cur_df['用户姓名'].unique()\n",
    "#                     doctor = random.choice(doctors)\n",
    "#                     cur_df = cur_df.loc[cur_df['用户姓名']==doctor]\n",
    "\n",
    "                counter = 0\n",
    "                for idx in cur_df.index:\n",
    "                    series_name = cur_df.loc[idx, '序列编号']\n",
    "                    temp_path = self.data_dir + series_name\n",
    "                    file = os.listdir(temp_path)\n",
    "                    read_path = temp_path + '/' + file[0]\n",
    "                    img_series = cur_df.loc[idx, '影像结果编号']\n",
    "                    crop_img_name = str(img_series) + '_' +series + '_' + file[0] + '_'+ str(counter) + '.jpg'\n",
    "                    save_path = save_dirs + crop_img_name\n",
    "                    counter += 1\n",
    "                    \n",
    "                    if not self.check_exist(save_path):\n",
    "                        img = Image.open(read_path)\n",
    "                        shape = img.size\n",
    "\n",
    "                        x_min = max(0, cur_df.loc[idx, 'x_min'])\n",
    "                        y_min = max(0, cur_df.loc[idx, 'y_min'])\n",
    "                        x_max = min(shape[0], cur_df.loc[idx, 'x_max'])\n",
    "                        y_max = min(shape[1], cur_df.loc[idx, 'y_max'])\n",
    "                        box = [x_min, y_min,x_max, y_max]\n",
    "\n",
    "                        crop_img = img.crop(box)                        \n",
    "                        crop_img.save(save_path, quality=95)\n",
    "                    else:\n",
    "                        continue\n",
    "                        \n",
    "    \n",
    "    def check_exist(self, path):\n",
    "        return os.path.exists(path)"
   ]
  },
  {
   "cell_type": "code",
   "execution_count": 31,
   "metadata": {},
   "outputs": [],
   "source": [
    "save_dir = '/data/AlgProj/tct_yaoms/data/tct_0627_preprocess/'\n",
    "data_dir = '/data/AlgProj/niezl/TCT/1_DataBase/20190627/'\n",
    "csv_path = '/data/AlgProj/niezl/TCT/TCT_Data/Misc/TCT_0626_part1/影像标注结果.csv'\n",
    "\n"
   ]
  },
  {
   "cell_type": "code",
   "execution_count": 32,
   "metadata": {},
   "outputs": [],
   "source": [
    "tct_0627 = TCTFilePreprocess(data_dir, csv_path, save_dir)"
   ]
  },
  {
   "cell_type": "code",
   "execution_count": 33,
   "metadata": {},
   "outputs": [
    {
     "name": "stdout",
     "output_type": "stream",
     "text": [
      "'untrusted_series_id.txt'文件已存在\n",
      "one_doctor_labeled.txt已存在\n"
     ]
    }
   ],
   "source": [
    "tct_0627.remove_untrusted_label(0.5)\n",
    "tct_0627.produce_new_label()"
   ]
  },
  {
   "cell_type": "code",
   "execution_count": 6,
   "metadata": {},
   "outputs": [
    {
     "name": "stdout",
     "output_type": "stream",
     "text": [
      "len of dataframe 1839\n",
      "len of dataframe 638\n",
      "len of dataframe 178\n"
     ]
    }
   ],
   "source": [
    "tct_0627.crop_malignant()"
   ]
  },
  {
   "cell_type": "code",
   "execution_count": 7,
   "metadata": {},
   "outputs": [
    {
     "data": {
      "text/plain": [
       "319"
      ]
     },
     "execution_count": 7,
     "metadata": {},
     "output_type": "execute_result"
    }
   ],
   "source": [
    "len(os.listdir('/data/AlgProj/tct_yaoms/data/tct_0627_preprocess/the_same_region_labeled'))"
   ]
  },
  {
   "cell_type": "code",
   "execution_count": 8,
   "metadata": {},
   "outputs": [
    {
     "data": {
      "text/plain": [
       "array([ 0,  1, -1])"
      ]
     },
     "execution_count": 8,
     "metadata": {},
     "output_type": "execute_result"
    }
   ],
   "source": [
    "tct_0627.labels['trusted'].unique()"
   ]
  },
  {
   "cell_type": "code",
   "execution_count": 34,
   "metadata": {},
   "outputs": [
    {
     "data": {
      "text/plain": [
       " 0    1839\n",
       " 1     638\n",
       "-1     178\n",
       "Name: trusted, dtype: int64"
      ]
     },
     "execution_count": 34,
     "metadata": {},
     "output_type": "execute_result"
    }
   ],
   "source": [
    "tct_0627.labels.loc[:, 'trusted'].value_counts()"
   ]
  },
  {
   "cell_type": "code",
   "execution_count": 11,
   "metadata": {},
   "outputs": [],
   "source": [
    "tct_0627.produce_new_label()"
   ]
  },
  {
   "cell_type": "code",
   "execution_count": 5,
   "metadata": {},
   "outputs": [
    {
     "name": "stdout",
     "output_type": "stream",
     "text": [
      "'untrusted_series_id.txt'文件已存在\n",
      "one_doctor_labeled.txt已存在\n",
      "detail_infomation.csv文件已存在\n",
      "len of dataframe 252\n",
      "len of dataframe 1851\n",
      "len of dataframe 2712\n"
     ]
    }
   ],
   "source": [
    "save_dir = '/data/AlgProj/tct_yaoms/data/tct_0702_preprocess_iou0.1_img_series/'\n",
    "data_dir = '/data/AlgProj/niezl/TCT/1_DataBase/20190702/'\n",
    "csv_path = '/data/AlgProj/niezl/TCT/TCT_Data/Misc/TCT标注_0702/影像标注结果.csv'\n",
    "\n",
    "tct_0702 = TCTFilePreprocess(data_dir, csv_path, save_dir)\n",
    "tct_0702.remove_untrusted_label(0.1)\n",
    "tct_0702.produce_new_label()\n",
    "tct_0702.crop_malignant()"
   ]
  },
  {
   "cell_type": "code",
   "execution_count": 26,
   "metadata": {},
   "outputs": [
    {
     "data": {
      "text/plain": [
       " 0    3445\n",
       " 1    1118\n",
       "-1     252\n",
       "Name: trusted, dtype: int64"
      ]
     },
     "execution_count": 26,
     "metadata": {},
     "output_type": "execute_result"
    }
   ],
   "source": [
    "tct_0702.labels['trusted'].value_counts()"
   ]
  },
  {
   "cell_type": "code",
   "execution_count": 37,
   "metadata": {},
   "outputs": [
    {
     "data": {
      "text/plain": [
       " 1    4563\n",
       "-1     252\n",
       "Name: trusted, dtype: int64"
      ]
     },
     "execution_count": 37,
     "metadata": {},
     "output_type": "execute_result"
    }
   ],
   "source": [
    "import pandas as pd\n",
    "df = pd.read_csv('/data/AlgProj/tct_yaoms/data/tct_0702_preprocess_iou0.0/detail_infomation.csv')\n",
    "df['trusted'].value_counts()"
   ]
  },
  {
   "cell_type": "code",
   "execution_count": 3,
   "metadata": {},
   "outputs": [
    {
     "name": "stdout",
     "output_type": "stream",
     "text": [
      "len of dataframe 252\n",
      "len of dataframe 1851\n",
      "len of dataframe 2712\n"
     ]
    }
   ],
   "source": [
    "\n",
    "\n",
    "\n",
    "save_dir = '/data/AlgProj/tct_yaoms/data/tct_0702_rm_untrusted_ascus/'\n",
    "data_dir = '/data/AlgProj/niezl/TCT/1_DataBase/20190702/'\n",
    "csv_path = '/data/AlgProj/niezl/TCT/TCT_Data/Misc/TCT标注_0702/影像标注结果.csv'\n",
    "\n",
    "tct_0702 = TCTFilePreprocess(data_dir, csv_path, save_dir)\n",
    "tct_0702.remove_untrusted_label(0.1)\n",
    "tct_0702.produce_new_label()\n",
    "tct_0702.crop_malignant()"
   ]
  },
  {
   "cell_type": "code",
   "execution_count": null,
   "metadata": {},
   "outputs": [],
   "source": []
  }
 ],
 "metadata": {
  "kernelspec": {
   "display_name": "Python 2",
   "language": "python",
   "name": "python2"
  },
  "language_info": {
   "codemirror_mode": {
    "name": "ipython",
    "version": 3
   },
   "file_extension": ".py",
   "mimetype": "text/x-python",
   "name": "python",
   "nbconvert_exporter": "python",
   "pygments_lexer": "ipython3",
   "version": "3.5.6"
  }
 },
 "nbformat": 4,
 "nbformat_minor": 2
}
