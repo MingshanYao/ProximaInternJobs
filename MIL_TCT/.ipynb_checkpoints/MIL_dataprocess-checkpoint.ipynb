{
 "cells": [
  {
   "cell_type": "code",
   "execution_count": 4,
   "metadata": {},
   "outputs": [],
   "source": [
    "import sys\n",
    "sys.path.append('..')\n",
    "import pandas as pd\n",
    "import shutil\n",
    "import torch\n",
    "from glob import glob\n",
    "import torch.nn as nn\n",
    "from torch.nn import DataParallel\n",
    "import torch.optim as optim\n",
    "import cv2\n",
    "from torch.optim import lr_scheduler\n",
    "import random\n",
    "from torch.autograd import Variable\n",
    "import os\n",
    "import matplotlib.pyplot as plt\n",
    "import numpy as np\n",
    "import random\n",
    "from tqdm import tqdm_notebook\n",
    "import matplotlib.patches as patches\n",
    "uid_folder_excel = '/home/tanglc/excel/result.csv'\n",
    "qilu_excel = '/home/tanglc/excel/齐鲁数据采集20190717(1).xlsx'\n",
    "test_path = '/data/yaoms/cut_20190717/'"
   ]
  },
  {
   "cell_type": "code",
   "execution_count": 2,
   "metadata": {},
   "outputs": [],
   "source": [
    "df_uid = pd.read_csv(uid_folder_excel)\n",
    "df_gt = pd.read_excel(qilu_excel)\n",
    "#-*-coding:utf-8-*-\n",
    "num_files = len(df_gt)\n",
    "map_gt = {}\n",
    "for i in range(num_files):\n",
    "    folder_name = str(df_gt[u'扫描号'].iloc[i])\n",
    "    result = df_gt[u'阴阳性'].iloc[i]\n",
    "    ascus = df_gt[u'鳞状上皮细胞异常'].iloc[i]\n",
    "    if result == u'\\u9633':\n",
    "        result = 1\n",
    "    else:\n",
    "        result = 0\n",
    "    map_gt[folder_name] = result\n",
    "    \n",
    "num_uid = len(df_uid)\n",
    "map_uid = {}\n",
    "for i in range(num_uid):\n",
    "    uid = df_uid[u'uid'].iloc[i]\n",
    "    folder_name = df_uid[u'folder'].iloc[i].split('/')[0]\n",
    "    map_uid[uid] = folder_name\n",
    "    \n",
    "positive = []\n",
    "negative = []\n",
    "for folder in os.listdir(test_path):\n",
    "    folder_name = map_uid[folder]\n",
    "    if folder_name in map_gt:\n",
    "        if map_gt[folder_name] == 1:\n",
    "            positive.append(os.path.join(test_path, folder))\n",
    "        else:\n",
    "            negative.append(os.path.join(test_path, folder))"
   ]
  },
  {
   "cell_type": "code",
   "execution_count": 22,
   "metadata": {},
   "outputs": [
    {
     "data": {
      "application/vnd.jupyter.widget-view+json": {
       "model_id": "d293541c70314588a5c59cdcdec5eea8",
       "version_major": 2,
       "version_minor": 0
      },
      "text/plain": [
       "HBox(children=(IntProgress(value=0, max=198), HTML(value=u'')))"
      ]
     },
     "metadata": {},
     "output_type": "display_data"
    },
    {
     "data": {
      "application/vnd.jupyter.widget-view+json": {
       "model_id": "83c42cafc7c34e559f614892f76c24ef",
       "version_major": 2,
       "version_minor": 0
      },
      "text/plain": [
       "HBox(children=(IntProgress(value=0, max=71), HTML(value=u'')))"
      ]
     },
     "metadata": {},
     "output_type": "display_data"
    }
   ],
   "source": [
    "random.shuffle(positive)\n",
    "random.shuffle(negative)\n",
    "new_path = '/data/tlc/TCT/all_data/20190717_224/'\n",
    "for folder in tqdm_notebook(positive):\n",
    "    img_list = os.listdir(folder)\n",
    "    img_list.sort()\n",
    "    uid = os.path.basename(folder)\n",
    "    new_folder = os.path.join(new_path, uid)\n",
    "    #print new_folder\n",
    "    for idx in range(len(img_list)-1):\n",
    "        img_path = os.path.join(folder, img_list[idx])\n",
    "        img = cv2.imread(img_path)\n",
    "        image_resized = cv2.resize(img, (224, 224), interpolation=0)\n",
    "        save_path = os.path.join(new_folder, img_list[idx])\n",
    "        cv2.imwrite(save_path, image_resized)\n",
    "\n",
    "for folder in tqdm_notebook(negative):\n",
    "    img_list = os.listdir(folder)\n",
    "    img_list.sort()\n",
    "    uid = os.path.basename(folder)\n",
    "    new_folder = os.path.join(new_path, uid)\n",
    "    #print new_folder\n",
    "    for idx in range(len(img_list)-1):\n",
    "        img_path = os.path.join(folder, img_list[idx])\n",
    "        img = cv2.imread(img_path)\n",
    "        image_resized = cv2.resize(img, (224, 224), interpolation=0)\n",
    "        save_path = os.path.join(new_folder, img_list[idx])\n",
    "        cv2.imwrite(save_path, image_resized)\n",
    "        "
   ]
  },
  {
   "cell_type": "code",
   "execution_count": 3,
   "metadata": {},
   "outputs": [],
   "source": [
    "random.shuffle(negative)\n",
    "random.shuffle(positive)\n",
    "train_data = []\n",
    "val_data = []\n",
    "for i in range(len(positive)):\n",
    "    if i <= 0.7*len(positive):\n",
    "        train_data.append(positive[i])\n",
    "    else:\n",
    "        val_data.append(positive[i])\n",
    "\n",
    "for i in range(len(negative)):\n",
    "    if i <= 0.7*len(negative):\n",
    "        train_data.append(negative[i])\n",
    "    else:\n",
    "        val_data.append(negative[i])\n",
    "\n",
    "\n",
    "    \n",
    "    "
   ]
  },
  {
   "cell_type": "code",
   "execution_count": 5,
   "metadata": {},
   "outputs": [
    {
     "ename": "IOError",
     "evalue": "[Errno 13] Permission denied: '/home/tanglc/MIL_TCT/data_train.pth'",
     "output_type": "error",
     "traceback": [
      "\u001b[0;31m---------------------------------------------------------------------------\u001b[0m",
      "\u001b[0;31mIOError\u001b[0m                                   Traceback (most recent call last)",
      "\u001b[0;32m<ipython-input-5-407427b0c24e>\u001b[0m in \u001b[0;36m<module>\u001b[0;34m()\u001b[0m\n\u001b[1;32m     18\u001b[0m \u001b[0mdata\u001b[0m\u001b[0;34m[\u001b[0m\u001b[0;34m\"slides\"\u001b[0m\u001b[0;34m]\u001b[0m \u001b[0;34m=\u001b[0m \u001b[0mdata_slide\u001b[0m\u001b[0;34m\u001b[0m\u001b[0m\n\u001b[1;32m     19\u001b[0m \u001b[0;34m\u001b[0m\u001b[0m\n\u001b[0;32m---> 20\u001b[0;31m \u001b[0mtorch\u001b[0m\u001b[0;34m.\u001b[0m\u001b[0msave\u001b[0m\u001b[0;34m(\u001b[0m\u001b[0mdata\u001b[0m\u001b[0;34m,\u001b[0m\u001b[0;34m\"/home/tanglc/MIL_TCT/data_train.pth\"\u001b[0m\u001b[0;34m)\u001b[0m\u001b[0;34m\u001b[0m\u001b[0m\n\u001b[0m\u001b[1;32m     21\u001b[0m \u001b[0;34m\u001b[0m\u001b[0m\n",
      "\u001b[0;32m/root/anaconda2/lib/python2.7/site-packages/torch/serialization.pyc\u001b[0m in \u001b[0;36msave\u001b[0;34m(obj, f, pickle_module, pickle_protocol)\u001b[0m\n\u001b[1;32m    217\u001b[0m         \u001b[0;34m>>\u001b[0m\u001b[0;34m>\u001b[0m \u001b[0mtorch\u001b[0m\u001b[0;34m.\u001b[0m\u001b[0msave\u001b[0m\u001b[0;34m(\u001b[0m\u001b[0mx\u001b[0m\u001b[0;34m,\u001b[0m \u001b[0mbuffer\u001b[0m\u001b[0;34m)\u001b[0m\u001b[0;34m\u001b[0m\u001b[0m\n\u001b[1;32m    218\u001b[0m     \"\"\"\n\u001b[0;32m--> 219\u001b[0;31m     \u001b[0;32mreturn\u001b[0m \u001b[0m_with_file_like\u001b[0m\u001b[0;34m(\u001b[0m\u001b[0mf\u001b[0m\u001b[0;34m,\u001b[0m \u001b[0;34m\"wb\"\u001b[0m\u001b[0;34m,\u001b[0m \u001b[0;32mlambda\u001b[0m \u001b[0mf\u001b[0m\u001b[0;34m:\u001b[0m \u001b[0m_save\u001b[0m\u001b[0;34m(\u001b[0m\u001b[0mobj\u001b[0m\u001b[0;34m,\u001b[0m \u001b[0mf\u001b[0m\u001b[0;34m,\u001b[0m \u001b[0mpickle_module\u001b[0m\u001b[0;34m,\u001b[0m \u001b[0mpickle_protocol\u001b[0m\u001b[0;34m)\u001b[0m\u001b[0;34m)\u001b[0m\u001b[0;34m\u001b[0m\u001b[0m\n\u001b[0m\u001b[1;32m    220\u001b[0m \u001b[0;34m\u001b[0m\u001b[0m\n\u001b[1;32m    221\u001b[0m \u001b[0;34m\u001b[0m\u001b[0m\n",
      "\u001b[0;32m/root/anaconda2/lib/python2.7/site-packages/torch/serialization.pyc\u001b[0m in \u001b[0;36m_with_file_like\u001b[0;34m(f, mode, body)\u001b[0m\n\u001b[1;32m    140\u001b[0m             \u001b[0;34m(\u001b[0m\u001b[0msys\u001b[0m\u001b[0;34m.\u001b[0m\u001b[0mversion_info\u001b[0m\u001b[0;34m[\u001b[0m\u001b[0;36m0\u001b[0m\u001b[0;34m]\u001b[0m \u001b[0;34m==\u001b[0m \u001b[0;36m3\u001b[0m \u001b[0;32mand\u001b[0m \u001b[0misinstance\u001b[0m\u001b[0;34m(\u001b[0m\u001b[0mf\u001b[0m\u001b[0;34m,\u001b[0m \u001b[0mpathlib\u001b[0m\u001b[0;34m.\u001b[0m\u001b[0mPath\u001b[0m\u001b[0;34m)\u001b[0m\u001b[0;34m)\u001b[0m\u001b[0;34m:\u001b[0m\u001b[0;34m\u001b[0m\u001b[0m\n\u001b[1;32m    141\u001b[0m         \u001b[0mnew_fd\u001b[0m \u001b[0;34m=\u001b[0m \u001b[0mTrue\u001b[0m\u001b[0;34m\u001b[0m\u001b[0m\n\u001b[0;32m--> 142\u001b[0;31m         \u001b[0mf\u001b[0m \u001b[0;34m=\u001b[0m \u001b[0mopen\u001b[0m\u001b[0;34m(\u001b[0m\u001b[0mf\u001b[0m\u001b[0;34m,\u001b[0m \u001b[0mmode\u001b[0m\u001b[0;34m)\u001b[0m\u001b[0;34m\u001b[0m\u001b[0m\n\u001b[0m\u001b[1;32m    143\u001b[0m     \u001b[0;32mtry\u001b[0m\u001b[0;34m:\u001b[0m\u001b[0;34m\u001b[0m\u001b[0m\n\u001b[1;32m    144\u001b[0m         \u001b[0;32mreturn\u001b[0m \u001b[0mbody\u001b[0m\u001b[0;34m(\u001b[0m\u001b[0mf\u001b[0m\u001b[0;34m)\u001b[0m\u001b[0;34m\u001b[0m\u001b[0m\n",
      "\u001b[0;31mIOError\u001b[0m: [Errno 13] Permission denied: '/home/tanglc/MIL_TCT/data_train.pth'"
     ]
    }
   ],
   "source": [
    "data = {}\n",
    "data_patch = []\n",
    "data_target =[]\n",
    "data_slide = []\n",
    "#data_list = glob(\"/data/yuyue/rose/2018_origin/2018origin_224/*\")\n",
    "for i in range(len(train_data)):\n",
    "    folder_name = train_data[i]\n",
    "    if folder_name in positive:\n",
    "        label = 1\n",
    "    else:\n",
    "        label = 0\n",
    "    data_patch.append(glob(folder_name+\"/*.jpg\"))    \n",
    "    data_target.append(label)\n",
    "    data_slide.append(i)\n",
    "    \n",
    "data[\"patch\"] = data_patch\n",
    "data[\"targets\"] = data_target\n",
    "data[\"slides\"] = data_slide\n",
    "\n",
    "torch.save(data,\"/home/tanglc/MIL_TCT/data_train.pth\")\n",
    "    "
   ]
  },
  {
   "cell_type": "code",
   "execution_count": 35,
   "metadata": {},
   "outputs": [],
   "source": [
    "data = {}\n",
    "data_patch = []\n",
    "data_target =[]\n",
    "data_slide = []\n",
    "#data_list = glob(\"/data/yuyue/rose/2018_origin/2018origin_224/*\")\n",
    "for i in range(len(val_data)):\n",
    "    folder_name = val_data[i]\n",
    "    if folder_name in positive:\n",
    "        label = 1\n",
    "    else:\n",
    "        label = 0\n",
    "    for img in os.listdir(folder_name):\n",
    "        img_path = os.path.join(folder_name, img)\n",
    "        data_patch.append(img_path)\n",
    "        data_target.append(label)\n",
    "        data_slide.append(i)\n",
    "    \n",
    "data[\"patch\"] = data_patch\n",
    "data[\"targets\"] = data_target\n",
    "data[\"slides\"] = data_slide\n",
    "\n",
    "torch.save(data,\"/home/tanglc/MIL_TCT/data_val.pth\")"
   ]
  },
  {
   "cell_type": "code",
   "execution_count": 11,
   "metadata": {},
   "outputs": [],
   "source": [
    "data = torch.load(\"/home/tanglc/MIL_TCT/checkpoint_best.pth\")"
   ]
  },
  {
   "cell_type": "code",
   "execution_count": 12,
   "metadata": {},
   "outputs": [
    {
     "data": {
      "text/plain": [
       "0.9622641509433962"
      ]
     },
     "execution_count": 12,
     "metadata": {},
     "output_type": "execute_result"
    }
   ],
   "source": [
    "data['best_acc']"
   ]
  },
  {
   "cell_type": "code",
   "execution_count": null,
   "metadata": {},
   "outputs": [],
   "source": [
    "df_uid = pd.read_csv(uid_folder_excel)\n",
    "df_gt = pd.read_excel(qilu_excel)\n",
    "#-*-coding:utf-8-*-\n",
    "num_files = len(df_gt)\n",
    "uid = \n",
    "map_gt = {}\n",
    "for i in range(num_files):\n",
    "    folder_name = str(df_gt[u'扫描号'].iloc[i])\n",
    "    result = df_gt[u'阴阳性'].iloc[i]\n",
    "    ascus = df_gt[u'鳞状上皮细胞异常'].iloc[i]\n",
    "    if result == u'\\u9633' and ascus != u'ASC-US':\n",
    "        \n",
    "    \n",
    "    \n",
    "num_uid = len(df_uid)\n",
    "map_uid = {}\n",
    "for i in range(num_uid):\n",
    "    uid = df_uid[u'uid'].iloc[i]\n",
    "    folder_name = df_uid[u'folder'].iloc[i].split('/')[0]\n",
    "    map_uid[uid] = folder_name"
   ]
  }
 ],
 "metadata": {
  "kernelspec": {
   "display_name": "Python 2",
   "language": "python",
   "name": "python2"
  },
  "language_info": {
   "codemirror_mode": {
    "name": "ipython",
    "version": 2
   },
   "file_extension": ".py",
   "mimetype": "text/x-python",
   "name": "python",
   "nbconvert_exporter": "python",
   "pygments_lexer": "ipython2",
   "version": "2.7.16"
  }
 },
 "nbformat": 4,
 "nbformat_minor": 2
}
