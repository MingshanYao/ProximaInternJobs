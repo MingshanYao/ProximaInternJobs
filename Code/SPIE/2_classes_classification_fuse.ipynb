{
 "cells": [
  {
   "cell_type": "code",
   "execution_count": 1,
   "metadata": {},
   "outputs": [],
   "source": [
    "from __future__ import print_function, division\n",
    "\n",
    "import torch\n",
    "import torch.nn as nn\n",
    "import torch.optim as optim\n",
    "from torch.optim import lr_scheduler\n",
    "from torch.autograd import Variable\n",
    "import numpy as np\n",
    "import torchvision\n",
    "from torchvision import datasets, models, transforms\n",
    "import matplotlib.pyplot as plt\n",
    "import time\n",
    "import os\n",
    "import copy\n",
    "import pandas as pd\n",
    "import cv2\n",
    "import torch.utils.data as data\n",
    "from glob import glob\n",
    "from random import shuffle\n",
    "from PIL import Image\n",
    "import random\n",
    "from tqdm import tqdm\n",
    "from pred import predprob\n",
    "from skimage import io "
   ]
  },
  {
   "cell_type": "code",
   "execution_count": 2,
   "metadata": {},
   "outputs": [],
   "source": [
    "import sys\n",
    "paths = sys.path\n",
    "sys.path.append('/home/yuyue/yuyue/Synchronized-BatchNorm-PyTorch-master')"
   ]
  },
  {
   "cell_type": "code",
   "execution_count": 3,
   "metadata": {},
   "outputs": [],
   "source": [
    "os.environ[\"CUDA_VISIBLE_DEVICES\"] = \"2,3\""
   ]
  },
  {
   "cell_type": "code",
   "execution_count": 4,
   "metadata": {},
   "outputs": [],
   "source": [
    "data_transforms = {\n",
    "    'train': transforms.Compose([\n",
    "        transforms.Resize((512, 512)),\n",
    "#         RandomCrop((512, 512)),\n",
    "        transforms.RandomHorizontalFlip(),   # horizontal flip\n",
    "        transforms.RandomVerticalFlip(),   # vertival flip\n",
    "        transforms.ColorJitter(0.2,0.2,0.2,0.04),\n",
    "        transforms.ToTensor(),\n",
    "        transforms.Normalize([0.485, 0.456, 0.406], [0.229, 0.224, 0.225]) # mean, std\n",
    "    ]),\n",
    "    'val': transforms.Compose([\n",
    "        transforms.Resize((512, 512)),\n",
    "        transforms.ToTensor(),\n",
    "        transforms.Normalize([0.485, 0.456, 0.406], [0.229, 0.224, 0.225])\n",
    "    ]),\n",
    "    'test': transforms.Compose([\n",
    "        transforms.Resize((512, 512)),\n",
    "        transforms.ToTensor(),\n",
    "        transforms.Normalize([0.485, 0.456, 0.406], [0.229, 0.224, 0.225]),\n",
    "    ])\n",
    "}"
   ]
  },
  {
   "cell_type": "code",
   "execution_count": 5,
   "metadata": {},
   "outputs": [],
   "source": [
    "df_train = pd.read_csv('/data/Pathology/SPIE/training_set/breastpathq/datasets/train_labels.csv') \n",
    "df_val = pd.read_csv('/data/Pathology/SPIE/training_set/breastpathq/datasets/val_labels.csv') \n",
    "df = df_train.append(df_val)"
   ]
  },
  {
   "cell_type": "code",
   "execution_count": 6,
   "metadata": {},
   "outputs": [],
   "source": [
    "def make_dataset(paths, extension, df):\n",
    "    images = []\n",
    "    for p in paths:\n",
    "        if ('.'+extension) in p:\n",
    "            slide = p.split('/')[-1].split('_')[0]\n",
    "            slide = int(slide)\n",
    "            rid = p.split('/')[-1].split('_')[1].split('.')[0]\n",
    "            rid = int(rid)\n",
    "            score = df[(df['slide']==slide) & (df['rid']==rid)]['y'].tolist()[0]\n",
    "           #if score != 0:\n",
    "            #print(p,float(score))\n",
    "            images.append([p, float(score)])\n",
    "    shuffle(images)\n",
    "    return images"
   ]
  },
  {
   "cell_type": "code",
   "execution_count": 7,
   "metadata": {},
   "outputs": [],
   "source": [
    "class SPIE_dataset(data.Dataset):\n",
    "    def __init__(self, dirs, loader, extension, transform=None, train=True):\n",
    "        self.samples = make_dataset(dirs, extension, df)\n",
    "        if len(self.samples) == 0:\n",
    "            raise(RuntimeError(\"no files in %s\" % dirs))\n",
    "        self.loader = loader\n",
    "        self.transform = transform\n",
    "        self.train=train\n",
    "        \n",
    "    def __getitem__(self, index):\n",
    "        path, target = self.samples[index]\n",
    "        sample = self.loader(path)\n",
    "        sample = Image.fromarray(sample)\n",
    "        #target = torch.tensor(target).long()\n",
    "        if self.transform:\n",
    "            sample = self.transform(sample)\n",
    "        if self.train:\n",
    "            return sample, target\n",
    "        else:\n",
    "            return sample, target, path\n",
    "        #print('target:',target)\n",
    "    def __len__(self):\n",
    "        return len(self.samples)"
   ]
  },
  {
   "cell_type": "code",
   "execution_count": 8,
   "metadata": {},
   "outputs": [],
   "source": [
    "train_samples = glob(\"/data/Pathology/SPIE/training_set/breastpathq/datasets/train/*.tif\")\n",
    "val_samples = glob(\"/data/Pathology/SPIE/training_set/breastpathq/datasets/validation/*.tif\")\n",
    "#test_samples = torch.load( '/data/AlgProj/ydx/ydx/zhongshan/datapath/20190410_4_cls/test_444.pth')"
   ]
  },
  {
   "cell_type": "code",
   "execution_count": 9,
   "metadata": {},
   "outputs": [
    {
     "name": "stdout",
     "output_type": "stream",
     "text": [
      "True\n"
     ]
    }
   ],
   "source": [
    "train_dataset = SPIE_dataset(train_samples, io.imread, 'tif', transform=data_transforms['train'])\n",
    "val_dataset = SPIE_dataset(val_samples, io.imread, 'tif', transform=data_transforms['val'])\n",
    "#test_dataset = Rose_dataset(test_samples, Image.open, 'jpg', transform=data_transforms['test'], train=False)\n",
    "image_datasets = {'train':train_dataset, 'val':val_dataset}\n",
    "dataloaders = {\"train\": torch.utils.data.DataLoader(image_datasets[\"train\"], batch_size=16,\n",
    "                                             shuffle=True, num_workers=16),\n",
    "               \"val\": torch.utils.data.DataLoader(image_datasets[\"val\"], batch_size=4,\n",
    "                                             shuffle=True, num_workers=4)}\n",
    "dataset_sizes = {x: len(image_datasets[x]) for x in ['train', 'val']}\n",
    "\n",
    "use_gpu = torch.cuda.is_available()\n",
    "print(use_gpu)"
   ]
  },
  {
   "cell_type": "code",
   "execution_count": 27,
   "metadata": {},
   "outputs": [],
   "source": [
    "def infer(model_2classes,model_regression, use_gpu=True):\n",
    "    model_regression.train(False)\n",
    "    model_2classes.train(False)\n",
    "    running_labels = []\n",
    "    running_outputs = []\n",
    "    running_paths = []\n",
    "    for data in dataloaders['val']:\n",
    "        inputs, labels = data\n",
    "        if use_gpu:\n",
    "            inputs = Variable(inputs.cuda())\n",
    "            labels = Variable(labels.cuda())\n",
    "        else:\n",
    "            inputs, labels = Variable(inputs), Variable(labels)\n",
    "        #print(\"labels=\",labels)\n",
    "        \n",
    "        outputs_2classes = model_2classes(inputs)\n",
    "        _, preds = torch.max(outputs_2classes.data, 1)\n",
    "        #print(preds)\n",
    "        for i in range(len(preds)):\n",
    "            if preds[i] == 1:\n",
    "                outputs = model_regression(inputs[i].unsqueeze(0))\n",
    "                outputs = nn.Sigmoid()(outputs[:,0])\n",
    "                outputs = list(outputs.cpu().data.numpy())\n",
    "                #print(outputs.shape)\n",
    "            elif preds[i] == 0:\n",
    "                outputs = torch.zeros((1))\n",
    "                #print(outputs)\n",
    "                outputs = Variable(outputs.cuda())\n",
    "                outputs = list(outputs.cpu().data.numpy())\n",
    "            running_outputs += outputs\n",
    "        #print(\"outputs=\",outputs)\n",
    "#         probs, preds = torch.max(outputs.data, 1)\n",
    "        #outputs = list(outputs.cpu().data.numpy())\n",
    "        labels = list(labels.cpu().data.numpy())\n",
    "        #paths = list(paths)\n",
    "        running_labels += labels\n",
    "        #running_outputs += outputs\n",
    "        running_paths += paths\n",
    "        \n",
    "    return np.array(running_outputs), np.array(running_labels)"
   ]
  },
  {
   "cell_type": "code",
   "execution_count": 30,
   "metadata": {},
   "outputs": [
    {
     "name": "stdout",
     "output_type": "stream",
     "text": [
      "model loaded\n"
     ]
    }
   ],
   "source": [
    "from densenet import densenet169\n",
    "model_regression = densenet169(pretrained=False)\n",
    "num_ftrs = model_regression.classifier.in_features\n",
    "model_regression.classifier = nn.Linear(num_ftrs, 1)\n",
    "#model_infer.add_module(\"sigmoid\", module=nn.Sigmoid())\n",
    "from sync_batchnorm import convert_model\n",
    "model_regression = convert_model(model_regression)\n",
    "model_regression.load_state_dict(torch.load('/data/yuyue/SPIE/model_weight/densenet169_512_0626_sigmoid_1.pth'))\n",
    "print(\"model loaded\")\n",
    "#model = model_regression.cuda()\n",
    "model_regression.eval()\n",
    "use_gpu = torch.cuda.is_available()\n",
    "if use_gpu:\n",
    "    model_regression = model_regression.cuda()"
   ]
  },
  {
   "cell_type": "code",
   "execution_count": 19,
   "metadata": {},
   "outputs": [
    {
     "name": "stdout",
     "output_type": "stream",
     "text": [
      "model loaded\n"
     ]
    }
   ],
   "source": [
    "from densenet import densenet169\n",
    "model_2classes = densenet169(pretrained=False)\n",
    "num_ftrs = model_2classes.classifier.in_features\n",
    "model_2classes.classifier = nn.Linear(num_ftrs, 2)\n",
    "#model_infer.add_module(\"sigmoid\", module=nn.Sigmoid())\n",
    "from sync_batchnorm import convert_model\n",
    "model_2classes = convert_model(model_2classes)\n",
    "model_2classes.load_state_dict(torch.load('/data/yuyue/SPIE/model_weight/2-classes_python2.pth'))\n",
    "print(\"model loaded\")\n",
    "#model = model_2classes.cuda()\n",
    "model_2classes.eval()\n",
    "use_gpu = torch.cuda.is_available()\n",
    "if use_gpu:\n",
    "    model_2classes = model_2classes.cuda()"
   ]
  },
  {
   "cell_type": "code",
   "execution_count": 31,
   "metadata": {},
   "outputs": [],
   "source": [
    "outputs, labels = infer(model_2classes,model_regression)"
   ]
  },
  {
   "cell_type": "code",
   "execution_count": 32,
   "metadata": {},
   "outputs": [
    {
     "data": {
      "text/plain": [
       "0.9229650243501359"
      ]
     },
     "execution_count": 32,
     "metadata": {},
     "output_type": "execute_result"
    }
   ],
   "source": [
    "from pred import predprob\n",
    "predprob(labels,outputs)"
   ]
  },
  {
   "cell_type": "code",
   "execution_count": null,
   "metadata": {},
   "outputs": [],
   "source": []
  }
 ],
 "metadata": {
  "kernelspec": {
   "display_name": "Python 2",
   "language": "python",
   "name": "python2"
  },
  "language_info": {
   "codemirror_mode": {
    "name": "ipython",
    "version": 2
   },
   "file_extension": ".py",
   "mimetype": "text/x-python",
   "name": "python",
   "nbconvert_exporter": "python",
   "pygments_lexer": "ipython2",
   "version": "2.7.15"
  }
 },
 "nbformat": 4,
 "nbformat_minor": 2
}
